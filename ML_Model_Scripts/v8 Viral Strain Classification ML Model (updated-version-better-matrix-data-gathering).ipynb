{
  "cells": [
    {
      "cell_type": "code",
      "execution_count": null,
      "metadata": {
        "id": "BxTgm86BC9mC"
      },
      "outputs": [],
      "source": [
        "!pip install -U pip wheel setuptools\n",
        "!pip install concrete-ml"
      ]
    },
    {
      "cell_type": "code",
      "execution_count": null,
      "metadata": {
        "id": "-yQEwnwKEQ3F"
      },
      "outputs": [],
      "source": [
        "from google.colab import drive\n",
        "drive.mount('/content/gdrive')"
      ]
    },
    {
      "cell_type": "code",
      "execution_count": 1,
      "metadata": {
        "colab": {
          "base_uri": "https://localhost:8080/"
        },
        "id": "BhLWVwaGFNWw",
        "outputId": "c981ddae-5ea6-4362-b585-4bab7677204f"
      },
      "outputs": [
        {
          "name": "stderr",
          "output_type": "stream",
          "text": [
            "/home/vivs/Documents/concreteml-covid-classifier/lib/python3.10/site-packages/tqdm/auto.py:21: TqdmWarning: IProgress not found. Please update jupyter and ipywidgets. See https://ipywidgets.readthedocs.io/en/stable/user_install.html\n",
            "  from .autonotebook import tqdm as notebook_tqdm\n"
          ]
        },
        {
          "name": "stdout",
          "output_type": "stream",
          "text": [
            "Shape of x:  (8893, 512)\n",
            "Shape of y: (8893,)\n",
            "Running time is 0.3347349166870117 seconds\n"
          ]
        }
      ],
      "source": [
        "from numpy import mean\n",
        "from numpy import std\n",
        "import matplotlib.pyplot as plt\n",
        "from sklearn.model_selection import train_test_split\n",
        "from sklearn import preprocessing\n",
        "from sklearn.metrics import accuracy_score, roc_auc_score\n",
        "from concrete.ml.sklearn import LogisticRegression, LinearRegression\n",
        "from sklearn.linear_model import LogisticRegression as skLR\n",
        "from sklearn.linear_model import LinearRegression as skLinear\n",
        "from sklearn.preprocessing import StandardScaler\n",
        "from sklearn.model_selection import RepeatedKFold\n",
        "from sklearn.model_selection import cross_val_score\n",
        "from sklearn.feature_selection import VarianceThreshold\n",
        "from sklearn.feature_selection import SelectKBest, chi2\n",
        "from sklearn.preprocessing import StandardScaler\n",
        "from sklearn.decomposition import PCA\n",
        "import time\n",
        "import pandas as pd\n",
        "\n",
        "start_time = time.time()\n",
        "def feature_selection(x, opt = \"\", var_percent = 0.8, n_features = 30):\n",
        "    if opt == \"var\":\n",
        "        print(\"\\nUsing variance threshold feature selection...\")\n",
        "        # Remove all features that have low variance in more than (percent)% of the samples.\n",
        "        #percent = .80\n",
        "        sel = VarianceThreshold(threshold=(var_percent * (1 - var_percent)))\n",
        "        print(\"Shape of X: \", x.shape)\n",
        "        #print(x.iloc[0])\n",
        "        x = sel.fit_transform(x)\n",
        "        print(\"After feature selection: \", len(x[0]), \" features\")\n",
        "        #print(x[0])\n",
        "    elif opt == \"kbest\":\n",
        "        print(\"\\nUsing K best features feature selection...\")\n",
        "        print(\"Shape of x before selection: \", x.shape)\n",
        "        x = SelectKBest(chi2, k=n_features).fit_transform(x, y)\n",
        "        print(\"Shape of x after selection: \", x.shape)\n",
        "    elif opt == \"pca\":\n",
        "        print(\"\\nUsing PCA feature selection...\")\n",
        "        x_scaled = StandardScaler().fit_transform(x)\n",
        "        pca = PCA(n_components=n_features)\n",
        "        pca_features = pca.fit_transform(x_scaled)\n",
        "        print('Shape before PCA: ', x_scaled.shape)\n",
        "        print('Shape after PCA: ', pca_features.shape)\n",
        "        x = pca_features\n",
        "    else:\n",
        "        print(\"\")\n",
        "    return x\n",
        "\n",
        "#select set option\n",
        "set = -1\n",
        "\n",
        "#import the dataset here (GISAID; try downloading individual FASTA files if di talaga kaya idownload yung EPISET)\n",
        "#if(set == -1):\n",
        "#    dataset_name = \"AFHE DATASET (05-04-2023).csv\"\n",
        "#elif(set == 0):\n",
        "#    dataset_name = \"ADJUSTED DATASET (05-04-2023).csv\"\n",
        "#else:\n",
        "#    dataset_name = \"ADJUSTED DOWNSIZED DATASET (05-04-2023).csv\"\n",
        "#dataset = pd.read_csv(dataset_name)\n",
        "\n",
        "dataset = pd.read_csv(\"AFHE DATASET (05-18-2023).csv\")\n",
        "\n",
        "#print(dataset['Lineage'].value_counts())\n",
        "\n",
        "#remove \"EPI_ISL_\" from ID\n",
        "#new_ID_col = []\n",
        "#for i in range(0, len(dataset['Accession ID'])):\n",
        "#    new_ID_col.append(str(dataset['Accession ID'].loc[i].replace(\"EPI_ISL_\", \"\")))\n",
        "#dataset['Accession ID'] = new_ID_col\n",
        "\n",
        "feature_cols = [c for c in dataset.columns[2:]]\n",
        "#print(feature_cols)\n",
        "\n",
        "x = dataset.loc[:,feature_cols].values #must be floats\n",
        "y = dataset.loc[:,'Lineage'].values #must be integers\n",
        "\n",
        "#print(x)\n",
        "#print(y)\n",
        "\n",
        "# Preprocessing with labels for the lineage\n",
        "le = preprocessing.LabelEncoder()\n",
        "y = le.fit_transform(y)\n",
        "# le.inverse_transform(le.classes_)\n",
        "\n",
        "x = x.astype(float)\n",
        "\n",
        "print(\"Shape of x: \", x.shape)\n",
        "print(\"Shape of y:\", y.shape)\n",
        "\n",
        "print(f\"Running time is {time.time() - start_time} seconds\")"
      ]
    },
    {
      "cell_type": "code",
      "execution_count": 2,
      "metadata": {
        "colab": {
          "base_uri": "https://localhost:8080/"
        },
        "id": "7ZM8Rdc1GAiq",
        "outputId": "229d7be1-b1ad-4eb9-8d57-7e1ec6aebf07"
      },
      "outputs": [
        {
          "name": "stdout",
          "output_type": "stream",
          "text": [
            "\n",
            "Using K best features feature selection...\n",
            "Shape of x before selection:  (8893, 512)\n",
            "Shape of x after selection:  (8893, 20)\n",
            "Running time is 0.07808279991149902 seconds\n"
          ]
        }
      ],
      "source": [
        "# Feature Selection Cell (ensemble attempted)\n",
        "\n",
        "start_time = time.time()\n",
        "#x = feature_selection(x, \"var\", var_percent = 0.80)\n",
        "x = feature_selection(x, \"kbest\", n_features = 20)\n",
        "#x = feature_selection(x, \"pca\", n_features = 5)\n",
        "print(f\"Running time is {time.time() - start_time} seconds\")"
      ]
    },
    {
      "cell_type": "code",
      "execution_count": 14,
      "metadata": {
        "colab": {
          "base_uri": "https://localhost:8080/"
        },
        "id": "to8ualx7GEFT",
        "outputId": "3b2c82f9-f1c6-4422-9b21-a0799b6e2749"
      },
      "outputs": [
        {
          "name": "stdout",
          "output_type": "stream",
          "text": [
            "Test set size: (1779, 20)\n",
            "Running time is 0.002429962158203125 seconds\n"
          ]
        }
      ],
      "source": [
        "# Retrieve train and test sets\n",
        "\n",
        "def split(x,y):\n",
        "    X_train, X_test, y_train, y_test = train_test_split(\n",
        "    x, y, test_size=.20)\n",
        "\n",
        "    return X_train, X_test, y_train, y_test\n",
        "\n",
        "start_time = time.time()\n",
        "X_train, X_test, y_train, y_test = split(x,y)\n",
        "\n",
        "print(f\"Test set size: {X_test.shape}\")\n",
        "\n",
        "print(f\"Running time is {time.time() - start_time} seconds\")\n",
        "#st_x = StandardScaler()\n",
        "#X_train = st_x.fit_transform(X_train)\n",
        "#X_test = st_x.transform(X_test)"
      ]
    },
    {
      "cell_type": "code",
      "execution_count": 8,
      "metadata": {
        "colab": {
          "base_uri": "https://localhost:8080/"
        },
        "id": "RIUoad8WGHaf",
        "outputId": "4a30afab-a734-4593-d78a-40df98193cbb"
      },
      "outputs": [
        {
          "name": "stdout",
          "output_type": "stream",
          "text": [
            "Getting performance metrics for scikit-learn model (Plaintext)...\n",
            "98.53850477796516\n",
            "98.70713884204609\n",
            "98.03260258572232\n",
            "98.76335019673974\n",
            "99.04440697020797\n",
            "98.65092748735245\n",
            "98.70713884204609\n",
            "98.5947161326588\n",
            "98.4822934232715\n",
            "98.98819561551433\n",
            "Getting performance metrics for Concrete-ML model (Quantized Plaintext)...\n",
            "98.76335019673974\n",
            "98.20123664980326\n",
            "98.4822934232715\n",
            "98.1450252951096\n",
            "98.65092748735245\n",
            "98.5947161326588\n",
            "98.4822934232715\n",
            "98.3698707138842\n",
            "99.10061832490163\n",
            "98.87577290612704\n",
            "Getting performance metrics for Concrete-ML model (FHE)...\n",
            "Compiling...\n",
            "model compiled!\n",
            "98.8195615514334%\n"
          ]
        }
      ],
      "source": [
        "results = []\n",
        "print(\"Getting performance metrics for scikit-learn model (Plaintext)...\")\n",
        "\n",
        "for i in range(0,10):\n",
        "    X_train, X_test, y_train, y_test = split(x,y)\n",
        "    start_time = time.time()\n",
        "    skmodel = skLR(C=1)\n",
        "    skmodel.fit(X_train,y_train)\n",
        "    y_pred_sklearn = skmodel.predict(X_test)\n",
        "    results.append(f\"{skmodel.score(X_test,y_test)*100}\")\n",
        "\n",
        "for r in results:\n",
        "    print(f\"{r}\")\n",
        "#print(\"Accuracy for sklearn: \", skmodel.score(X_test,y_test)*100,\"%\")\n",
        "#print(f\"Running time is {time.time() - start_time} seconds\")\n",
        "\n",
        "quantized_results = []\n",
        "print(\"Getting performance metrics for Concrete-ML model (Quantized Plaintext)...\")\n",
        "for i in range(0,10):\n",
        "    X_train, X_test, y_train, y_test = split(x,y)\n",
        "    model = LogisticRegression(C=1)\n",
        "    # Fit the model\n",
        "    model.fit(X_train, y_train)\n",
        "\n",
        "    start_time = time.time()\n",
        "    # Run the predictions on non-encrypted data as a reference\n",
        "    y_pred_clear = model.predict(X_test)\n",
        "\n",
        "    quantized_results.append(f\"{model.score(X_test,y_test) * 100}\")\n",
        "    # print(\"Accuracy rate for quantized plaintext:  \", model.score(X_test,y_test) * 100, \"%\")\n",
        "    # print(f\"Running time is {time.time() - start_time} seconds\")\n",
        "\n",
        "for r in quantized_results:\n",
        "    print(f\"{r}\")\n",
        "\n",
        "fhe_results = []\n",
        "print(\"Getting performance metrics for Concrete-ML model (FHE)...\")\n",
        "for i in range(0,10):\n",
        "    X_train, X_test, y_train, y_test = split(x,y)\n",
        "model = LogisticRegression(C=1)\n",
        "#Fit the model\n",
        "model.fit(X_train, y_train)\n",
        "print(\"Compiling...\")\n",
        "model.compile(x)\n",
        "print(\"model compiled!\")\n",
        "y_pred_fhe = model.predict(X_test, fhe=\"execute\")\n",
        "fhe_results.append(f\"{accuracy_score(y_test, y_pred_fhe) * 100}%\")\n",
        "\n",
        "for r in fhe_results:\n",
        "    print(f\"{r}\")"
      ]
    },
    {
      "cell_type": "code",
      "execution_count": 6,
      "metadata": {},
      "outputs": [
        {
          "name": "stdout",
          "output_type": "stream",
          "text": [
            "Getting training time and number of iterations for scikit-learn model (Plaintext)...\n",
            "0.11774444580078125\n",
            "0.11230659484863281\n",
            "0.14333224296569824\n",
            "0.07573723793029785\n",
            "0.08454060554504395\n",
            "0.07921242713928223\n",
            "0.0741567611694336\n",
            "0.08748960494995117\n",
            "0.10050606727600098\n",
            "0.08483648300170898\n",
            "Getting training time and number of iterations for Concrete-ML model (Quantized Plaintext and FHE)...\n",
            "0.11174917221069336\n",
            "0.11341309547424316\n",
            "0.1199955940246582\n",
            "0.11184048652648926\n",
            "0.12994861602783203\n",
            "0.10836601257324219\n",
            "0.1100301742553711\n",
            "0.11449027061462402\n",
            "0.11745142936706543\n",
            "0.11955857276916504\n"
          ]
        }
      ],
      "source": [
        "# Get running time for training of models\n",
        "print(\"Getting training time and number of iterations for scikit-learn model (Plaintext)...\")\n",
        "results = []\n",
        "\n",
        "for i in range(0,10):\n",
        "    start_time = time.time()\n",
        "    X_train, X_test, y_train, y_test = split(x,y)\n",
        "    skmodel = skLR(C=1)\n",
        "    skmodel.fit(X_train,y_train)\n",
        "    results.append(f\"{time.time() - start_time}\")\n",
        "\n",
        "for r in results:\n",
        "    print(f\"{r}\")\n",
        "\n",
        "print(\"Getting training time and number of iterations for Concrete-ML model (Quantized Plaintext and FHE)...\")\n",
        "quantized_results = []\n",
        "\n",
        "for i in range(0,10):\n",
        "    X_train, X_test, y_train, y_test = split(x,y)\n",
        "    model = LogisticRegression(C=1)\n",
        "    start_time = time.time()\n",
        "    model.fit(X_train, y_train)\n",
        "    quantized_results.append(f\"{time.time() - start_time}\")\n",
        "\n",
        "for r in quantized_results:\n",
        "    print(f\"{r}\")"
      ]
    },
    {
      "cell_type": "code",
      "execution_count": 13,
      "metadata": {},
      "outputs": [
        {
          "name": "stdout",
          "output_type": "stream",
          "text": [
            "Getting performance metrics for scikit-learn model (Plaintext)...\n",
            "0.0002377033233642578\n",
            "0.00019550323486328125\n",
            "0.00018930435180664062\n",
            "0.0001780986785888672\n",
            "0.00018525123596191406\n",
            "0.00018405914306640625\n",
            "0.00019598007202148438\n",
            "0.0001976490020751953\n",
            "0.00032591819763183594\n",
            "0.00041675567626953125\n",
            "Getting performance metrics for Concrete-ML model (Quantized Plaintext)...\n",
            "0.0004961490631103516\n",
            "0.001550912857055664\n",
            "0.0010693073272705078\n",
            "0.0007448196411132812\n",
            "0.0005869865417480469\n",
            "0.0005366802215576172\n",
            "0.0005044937133789062\n",
            "0.0005462169647216797\n",
            "0.0008070468902587891\n",
            "0.0005629062652587891\n",
            "Getting performance metrics for Concrete-ML model (FHE)...\n",
            "0.0007550716400146484\n",
            "0.0008912086486816406\n",
            "0.0006642341613769531\n",
            "0.0007526874542236328\n",
            "0.0006959438323974609\n",
            "0.0009424686431884766\n",
            "0.0006952285766601562\n",
            "0.0007085800170898438\n",
            "0.00103759765625\n",
            "0.0008318424224853516\n"
          ]
        }
      ],
      "source": [
        "print(\"Getting running time for scikit-learn model (Plaintext)...\")\n",
        "results = []\n",
        "\n",
        "for i in range(0,10):\n",
        "    X_train, X_test, y_train, y_test = split(x,y)\n",
        "    skmodel = skLR(C=1)\n",
        "    skmodel.fit(X_train,y_train)\n",
        "    start_time = time.time()\n",
        "    y_pred_sklearn = skmodel.predict(X_test)\n",
        "    results.append(f\"{time.time() - start_time}\")\n",
        "\n",
        "for r in results:\n",
        "    print(f\"{r}\")\n",
        "\n",
        "print(\"Getting running time for Concrete-ML model (Quantized Plaintext)...\")\n",
        "quantized_results = []\n",
        "\n",
        "for i in range(0,10):\n",
        "    X_train, X_test, y_train, y_test = split(x,y)\n",
        "    model = LogisticRegression(C=1)\n",
        "    model.fit(X_train, y_train)\n",
        "    start_time = time.time()\n",
        "    y_pred_clear = model.predict(X_test)\n",
        "    quantized_results.append(f\"{time.time() - start_time}\")\n",
        "\n",
        "for r in quantized_results:\n",
        "    print(f\"{r}\")\n",
        "\n",
        "print(\"Getting running time for Concrete-ML model (FHE)...\")\n",
        "fhe_results = []\n",
        "\n",
        "for i in range(0,10):\n",
        "    X_train, X_test, y_train, y_test = split(x,y)\n",
        "    model = LogisticRegression(C=1)\n",
        "    model.fit(X_train, y_train)\n",
        "    model.compile(x)\n",
        "    start_time = time.time()\n",
        "    y_pred_clear = model.predict(X_test)\n",
        "    fhe_results.append(f\"{time.time() - start_time}\")\n",
        "\n",
        "for r in fhe_results:\n",
        "    print(f\"{r}\")"
      ]
    },
    {
      "cell_type": "code",
      "execution_count": null,
      "metadata": {
        "colab": {
          "base_uri": "https://localhost:8080/"
        },
        "id": "xiuG5jkrGI4a",
        "outputId": "5fc4db53-2181-4b24-a675-ce4586ea2863"
      },
      "outputs": [],
      "source": [
        "# # Initialize model and fix the number of bits to used for quantization \n",
        "\n",
        "# model = LogisticRegression(C=1)\n",
        "\n",
        "# # Fit the model\n",
        "# model.fit(X_train, y_train)\n",
        "\n",
        "# start_time = time.time()\n",
        "# # Run the predictions on non-encrypted data as a reference\n",
        "# y_pred_clear = model.predict(X_test)\n",
        "\n",
        "# # Output (plaintext vs FHE):\n",
        "# # print(\"In clear:  \", le.inverse_transform(y_pred_clear))\n",
        "# # accuracy_score(y_test, y_pred_clear)\n",
        "# print(\"Accuracy rate for quantized plaintext:  \", model.score(X_test,y_test) * 100, \"%\")\n",
        "# print(f\"Running time is {time.time() - start_time} seconds\")\n",
        "\n",
        "# #low/higly volatile accuracy may be attributed to small dataset and too many features \n",
        "# #(feature selection needed and more samples are required)\n",
        "# print(\"PREDICTION:\\n\", y_pred_clear)\n",
        "# print(\"ACTUAL:\\n\", y_test) \n",
        "\n",
        "# # Compile into a FHE model\n",
        "# start_time = time.time()\n",
        "# print(\"Compiling...\")\n",
        "# model.compile(x)\n",
        "# print(\"model compiled!\")\n",
        "# print(f\"Running time is {time.time() - start_time} seconds\")\n",
        "\n",
        "# # Run the inference in FHE\n",
        "# start_time = time.time()\n",
        "# print(\"Predicting in FHE...\")\n",
        "# y_pred_fhe = model.predict(X_test, fhe=\"execute\")\n",
        "# print(\"Accuracy rate for FHE:  \", accuracy_score(y_test, y_pred_fhe) * 100, \"%\")\n",
        "\n",
        "# #print(\"In FHE    :\", y_pred_fhe)\n",
        "# print(f\"Comparison: {int((y_pred_fhe == y_pred_clear).sum()/len(y_pred_fhe)*100)}% similar\")\n",
        "# print(f\"Running time is {time.time() - start_time} seconds\")"
      ]
    },
    {
      "cell_type": "code",
      "execution_count": 12,
      "metadata": {
        "colab": {
          "base_uri": "https://localhost:8080/"
        },
        "id": "NAnw8wOaGKbT",
        "outputId": "7ec60758-6657-4088-aa98-26af90c2a1ea"
      },
      "outputs": [
        {
          "name": "stdout",
          "output_type": "stream",
          "text": [
            "Getting performance metrics for scikit-learn model (Plaintext)...\n",
            "0.9965331034153162\n",
            "0.9966535331617665\n",
            "0.996591334332203\n",
            "0.9966084216544349\n",
            "0.9966059442478676\n",
            "0.9965331702456964\n",
            "0.9965271381524897\n",
            "0.9965657154939291\n",
            "0.9966623477024421\n",
            "0.9965672017351994\n",
            "Getting performance metrics for Concrete-ML model (Quantized Plaintext)...\n",
            "0.9966399065583589\n",
            "0.9965626130040907\n",
            "0.9965469040560095\n",
            "0.9964562519706\n",
            "0.9965236306806162\n",
            "0.9964956778300396\n",
            "0.9965891192985437\n",
            "0.9965300495457934\n",
            "0.9965321880305027\n",
            "0.9964012496469661\n",
            "Getting performance metrics for Concrete-ML model (FHE)...\n",
            "0.9965955763503163\n",
            "0.9966302584160022\n",
            "0.9965493551608402\n",
            "0.9965875881337113\n",
            "0.9965955500234833\n",
            "0.9966098547321698\n",
            "0.9966140728716031\n",
            "0.9965628788719485\n",
            "0.9965538408121057\n",
            "0.9965974093908676\n"
          ]
        }
      ],
      "source": [
        "#Get AUC for multiclass\n",
        "#NOTE WE HAVE A MULTICLASS BUT NOT MULTILABEL PROBLEM. only one label selected from multiple classes is assigned\n",
        "start_time = time.time()\n",
        "results = []\n",
        "quantized_results = []\n",
        "fhe_results = []\n",
        "\n",
        "print(\"Getting performance metrics for scikit-learn model (Plaintext)...\")\n",
        "for i in range(0,10):\n",
        "    X_train, X_test, y_train, y_test = split(x,y)\n",
        "    #start_time = time.time()\n",
        "    skmodel = skLR(C=1)\n",
        "    skmodel.fit(X_train,y_train)\n",
        "    results.append(roc_auc_score(y, skmodel.predict_proba(x), multi_class='ovr'))\n",
        "\n",
        "for r in results:\n",
        "    print(f\"{r}\")\n",
        "\n",
        "print(\"Getting performance metrics for Concrete-ML model (Quantized Plaintext)...\")\n",
        "for i in range(0,10):\n",
        "    X_train, X_test, y_train, y_test = split(x,y)\n",
        "    model = LogisticRegression(C=1)\n",
        "    # Fit the model\n",
        "    model.fit(X_train, y_train)\n",
        "    quantized_results.append(roc_auc_score(y, model.predict_proba(x), multi_class='ovr'))\n",
        "\n",
        "for r in quantized_results:\n",
        "    print(f\"{r}\")\n",
        "\n",
        "print(\"Getting performance metrics for Concrete-ML model (FHE)...\")\n",
        "for i in range(0,10):\n",
        "    X_train, X_test, y_train, y_test = split(x,y)\n",
        "    model = LogisticRegression(C=1)\n",
        "    # Fit the model\n",
        "    model.fit(X_train, y_train)\n",
        "    #print(\"Compiling...\")\n",
        "    model.compile(x)\n",
        "    fhe_results.append(roc_auc_score(y, model.predict_proba(x), multi_class='ovr'))\n",
        "\n",
        "for r in fhe_results:\n",
        "    print(f\"{r}\")\n",
        "\n",
        "#print(\"Scikit learn ROC AUC Score (One vs Rest): \", roc_auc_score(y, skmodel.predict_proba(x), multi_class='ovr'))\n",
        "#print(\"Scikit learn AUROC (One vs One): \", roc_auc_score(y, skmodel.predict_proba(x), multi_class='ovo'))\n",
        "#print(\"Macro-averaged Concrete-ML ROC AUC Score (One vs Rest): \", roc_auc_score(y, model.predict_proba(x), multi_class='ovr'))\n",
        "#print(\"Concrete-ML AUROC (One vs One): \", roc_auc_score(y, model.predict_proba(x), multi_class='ovo'))\n",
        "#print(f\"Running time is {time.time() - start_time} seconds\")"
      ]
    },
    {
      "cell_type": "code",
      "execution_count": 16,
      "metadata": {
        "colab": {
          "base_uri": "https://localhost:8080/"
        },
        "id": "cwU0x9zZIF9E",
        "outputId": "4d155d33-5969-4250-d551-d27adff6f678"
      },
      "outputs": [
        {
          "name": "stdout",
          "output_type": "stream",
          "text": [
            "***Note: The diagonal elements are the correctly predicted samples. ***\n",
            "Confusion matrix for SKLearn Plaintext: \n"
          ]
        },
        {
          "data": {
            "image/png": "[encoded data removed]",
            "text/plain": [
              "<Figure size 640x480 with 2 Axes>"
            ]
          },
          "metadata": {},
          "output_type": "display_data"
        },
        {
          "name": "stdout",
          "output_type": "stream",
          "text": [
            "Confusion matrix for Quantized Plaintext: \n"
          ]
        },
        {
          "data": {
            "image/png": "[encoded data removed]",
            "text/plain": [
              "<Figure size 640x480 with 2 Axes>"
            ]
          },
          "metadata": {},
          "output_type": "display_data"
        },
        {
          "name": "stdout",
          "output_type": "stream",
          "text": [
            "Confusion matrix for FHE: \n"
          ]
        },
        {
          "data": {
            "image/png": "[encoded data removed]",
            "text/plain": [
              "<Figure size 640x480 with 2 Axes>"
            ]
          },
          "metadata": {},
          "output_type": "display_data"
        },
        {
          "name": "stdout",
          "output_type": "stream",
          "text": [
            "Running time is 3.145127773284912 seconds\n"
          ]
        }
      ],
      "source": [
        "# In[10]:\n",
        "start_time = time.time()\n",
        "\n",
        "from sklearn.metrics import confusion_matrix, ConfusionMatrixDisplay\n",
        "\n",
        "print(\"***Note: The diagonal elements are the correctly predicted samples. ***\")\n",
        "\n",
        "#use the scikit-learn classes because we use the same class naman\n",
        "\n",
        "print(\"Confusion matrix for SKLearn Plaintext: \")\n",
        "#print(confusion_matrix(y_test, y_pred_sklearn), \"\\n\")\n",
        "skmodel = skLR(C=1)\n",
        "skmodel.fit(X_train,y_train)\n",
        "y_pred_sklearn = skmodel.predict(X_test)\n",
        "sklearn_cm_display = ConfusionMatrixDisplay(confusion_matrix(y_test, y_pred_sklearn), display_labels=le.classes_)\n",
        "sklearn_cm_display.plot()\n",
        "plt.show()\n",
        "\n",
        "print(\"Confusion matrix for Quantized Plaintext: \")\n",
        "#print(confusion_matrix(y_test, y_pred_clear), \"\\n\")\n",
        "model = LogisticRegression(C=1)\n",
        "model.fit(X_train,y_train)\n",
        "y_pred_clear = model.predict(X_test)\n",
        "concrete_plain_display = ConfusionMatrixDisplay(confusion_matrix(y_test, y_pred_clear), display_labels=le.classes_)\n",
        "concrete_plain_display.plot()\n",
        "plt.show()\n",
        "\n",
        "print(\"Confusion matrix for FHE: \")\n",
        "#print(confusion_matrix(y_test, y_pred_fhe))\n",
        "model.compile(x)\n",
        "y_pred_fhe = model.predict(X_test)\n",
        "concrete_fhe_display = ConfusionMatrixDisplay(confusion_matrix(y_test, y_pred_fhe), display_labels=le.classes_)\n",
        "concrete_fhe_display.plot()\n",
        "plt.show()\n",
        "\n",
        "print(f\"Running time is {time.time() - start_time} seconds\")\n",
        "\n",
        "print(f\"Comparison (FHE vs Plaintext): {int((y_pred_fhe == y_pred_sklearn).sum()/len(y_pred_fhe)*100)}% similar\")\n",
        "print(f\"Comparison (FHE vs Quantized Plaintext): {int((y_pred_fhe == y_pred_clear).sum()/len(y_pred_fhe)*100)}% similar\")"
      ]
    },
    {
      "cell_type": "code",
      "execution_count": 11,
      "metadata": {
        "colab": {
          "base_uri": "https://localhost:8080/"
        },
        "id": "FhNGYU2NGL6r",
        "outputId": "ea2a01fa-4d3c-433f-955a-d7d66e520ac4"
      },
      "outputs": [
        {
          "name": "stdout",
          "output_type": "stream",
          "text": [
            "Sklearn Accuracy (Linear Reg, RF, SVC):\n",
            "95.7917644096283 98.76335019673974 98.76335019673974\n",
            "95.59788858482283 98.3698707138842 98.3698707138842\n",
            "95.59573048760245 98.42608206857786 98.31365935919055\n",
            "96.01291128964102 98.98819561551433 98.70713884204609\n",
            "95.41148715714557 98.8195615514334 98.8195615514334\n",
            "95.09660791455063 98.31365935919055 97.97639123102867\n",
            "95.60831246910284 98.76335019673974 98.53850477796516\n",
            "95.8156754744305 98.93198426082068 98.5947161326588\n",
            "95.91862986964041 98.76335019673974 98.70713884204609\n",
            "96.24364543917008 98.70713884204609 98.53850477796516\n",
            "Concrete-ML Accuracy (Linear Reg, RF, SVC):\n",
            "95.44564049107049   97.69533445756042   98.20123664980326\n",
            "95.527249525898   97.75154581225407   98.3698707138842\n",
            "94.8494855397951   97.92017987633503   98.53850477796516\n",
            "96.32749153218934   98.08881394041596   98.5947161326588\n",
            "96.17344138422924   98.3698707138842   98.70713884204609\n",
            "95.67681083287086   98.25744800449691   98.70713884204609\n",
            "95.18985688710711   97.92017987633503   98.4822934232715\n",
            "95.92273606077964   98.70713884204609   99.04440697020797\n",
            "95.21194195179565   97.86396852164138   98.4822934232715\n",
            "95.2437221806705   97.52670039347949   98.65092748735245\n"
          ]
        }
      ],
      "source": [
        "from concrete.ml.sklearn.svm import LinearSVC\n",
        "from sklearn.svm import LinearSVC as skSVC\n",
        "from concrete.ml.sklearn.rf import RandomForestClassifier\n",
        "from sklearn.ensemble import RandomForestClassifier as skRF\n",
        "\n",
        "print(f\"Sklearn Accuracy (Linear Reg, RF, SVC):\")\n",
        "\n",
        "for i in range(0,10):\n",
        "    X_train, X_test, y_train, y_test = split(x,y)\n",
        "\n",
        "    #SKLEARN LINEAR REGRESSION\n",
        "    skmodel2 = skLinear()\n",
        "    skmodel2.fit(X_train,y_train)\n",
        "    skmodel2.predict(X_test)\n",
        "    #print(\"Sklearn Linear Regression Accuracy: \", skmodel2.score(X_test,y_test)*100,\"%\")\n",
        "\n",
        "    #SKLEARN RANDOM FOREST\n",
        "    skmodel3 = skRF()\n",
        "    skmodel3.fit(X_train, y_train)\n",
        "    skmodel3.predict(X_test)\n",
        "    #print(\"Sklearn Random Forest Accuracy: \",skmodel3.score(X_test,y_test)*100,\"%\")\n",
        "\n",
        "    #SKLEARN SVC\n",
        "    skmodel4 = skSVC()\n",
        "    skmodel4.fit(X_train, y_train)\n",
        "    skmodel4.predict(X_test)\n",
        "    #print(\"Sklearn SVC Accuracy: \",skmodel4.score(X_test,y_test)*100,\"%\")\n",
        "\n",
        "    print(f\"{skmodel2.score(X_test,y_test)*100} {skmodel3.score(X_test,y_test)*100} {skmodel4.score(X_test,y_test)*100}\")\n",
        "\n",
        "print(f\"Concrete-ML Accuracy (Linear Reg, RF, SVC):\")\n",
        "\n",
        "for i in range(0,10):\n",
        "    X_train, X_test, y_train, y_test = split(x,y)\n",
        "    model2 = LinearRegression()\n",
        "    model2.fit(X_train,y_train)\n",
        "    model2.predict(X_test)\n",
        "    #print(\"Concrete-ML Linear Regression Accuracy: \", model2.score(X_test,y_test)*100,\"%\")\n",
        "\n",
        "    model3 = RandomForestClassifier()\n",
        "    model3.fit(X_train, y_train)\n",
        "    model3.predict(X_test)\n",
        "    #print(\"Concrete-ML Random Forest Accuracy: \",model3.score(X_test,y_test)*100,\"%\")\n",
        "\n",
        "    model4 = LinearSVC()\n",
        "    model4.fit(X_train, y_train)\n",
        "    model4.predict(X_test)\n",
        "    #print(\"Concrete-ML SVC Accuracy: \",model4.score(X_test,y_test)*100,\"%\")\n",
        "\n",
        "    print(f\"{model2.score(X_test,y_test)*100}   {model3.score(X_test,y_test)*100}   {model4.score(X_test,y_test)*100}\")"
      ]
    },
    {
      "cell_type": "code",
      "execution_count": null,
      "metadata": {
        "colab": {
          "base_uri": "https://localhost:8080/"
        },
        "id": "HYE6bmsjGj4C",
        "outputId": "ab4bb57a-e5aa-4022-9870-8bc63d5bc978"
      },
      "outputs": [],
      "source": [
        "# In[10]:\n",
        "\n",
        "\n",
        "#Attempting to save the model\n",
        "from concrete.ml.deployment import FHEModelClient, FHEModelDev, FHEModelServer\n",
        "\n",
        "start_time = time.time()\n",
        "\n",
        "fhemodel_dev = FHEModelDev(\"./concrete-covid-classifier\", model)\n",
        "fhemodel_dev.save()\n",
        "\n",
        "print(f\"Running time for saving the FHE model is {time.time() - start_time} seconds\")"
      ]
    },
    {
      "cell_type": "code",
      "execution_count": null,
      "metadata": {
        "colab": {
          "base_uri": "https://localhost:8080/"
        },
        "id": "_kAxGRM1Glz1",
        "outputId": "6576cdbd-2aeb-454b-9d8f-a59cf9b5e09b"
      },
      "outputs": [],
      "source": [
        "#Saving Scikit-learn model\n",
        "from joblib import dump, load\n",
        "\n",
        "dump(skmodel, './scikit-learn-classifier/scikitlearnmodel.joblib')\n",
        "#loaded_model = load('scikitlearnmodel.joblib')"
      ]
    }
  ],
  "metadata": {
    "colab": {
      "provenance": []
    },
    "kernelspec": {
      "display_name": "Python 3",
      "name": "python3"
    },
    "language_info": {
      "codemirror_mode": {
        "name": "ipython",
        "version": 3
      },
      "file_extension": ".py",
      "mimetype": "text/x-python",
      "name": "python",
      "nbconvert_exporter": "python",
      "pygments_lexer": "ipython3",
      "version": "3.10.6"
    }
  },
  "nbformat": 4,
  "nbformat_minor": 0
}
