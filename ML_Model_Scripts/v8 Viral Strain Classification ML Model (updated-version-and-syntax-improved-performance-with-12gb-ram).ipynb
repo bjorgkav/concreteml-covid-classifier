{
  "nbformat": 4,
  "nbformat_minor": 0,
  "metadata": {
    "colab": {
      "provenance": []
    },
    "kernelspec": {
      "name": "python3",
      "display_name": "Python 3"
    },
    "language_info": {
      "name": "python"
    }
  },
  "cells": [
    {
      "cell_type": "code",
      "execution_count": null,
      "metadata": {
        "id": "BxTgm86BC9mC"
      },
      "outputs": [],
      "source": [
        "!pip install -U pip wheel setuptools\n",
        "!pip install concrete-ml"
      ]
    },
    {
      "cell_type": "code",
      "source": [
        "from google.colab import drive\n",
        "drive.mount('/content/gdrive')"
      ],
      "metadata": {
        "id": "-yQEwnwKEQ3F"
      },
      "execution_count": null,
      "outputs": []
    },
    {
      "cell_type": "code",
      "source": [
        "from numpy import mean\n",
        "from numpy import std\n",
        "from sklearn.model_selection import train_test_split\n",
        "from sklearn import preprocessing\n",
        "from sklearn.metrics import accuracy_score, roc_auc_score\n",
        "from concrete.ml.sklearn import LogisticRegression, LinearRegression\n",
        "from sklearn.linear_model import LogisticRegression as skLR\n",
        "from sklearn.linear_model import LinearRegression as skLinear\n",
        "from sklearn.preprocessing import StandardScaler\n",
        "from sklearn.model_selection import RepeatedKFold\n",
        "from sklearn.model_selection import cross_val_score\n",
        "from sklearn.feature_selection import VarianceThreshold\n",
        "from sklearn.feature_selection import SelectKBest, chi2\n",
        "from sklearn.preprocessing import StandardScaler\n",
        "from sklearn.decomposition import PCA\n",
        "import time\n",
        "import pandas as pd\n",
        "\n",
        "start_time = time.time()\n",
        "def feature_selection(x, opt = \"\", var_percent = 0.8, n_features = 30):\n",
        "    if opt == \"var\":\n",
        "        print(\"\\nUsing variance threshold feature selection...\")\n",
        "        # Remove all features that have low variance in more than (percent)% of the samples.\n",
        "        #percent = .80\n",
        "        sel = VarianceThreshold(threshold=(var_percent * (1 - var_percent)))\n",
        "        print(\"Shape of X: \", x.shape)\n",
        "        #print(x.iloc[0])\n",
        "        x = sel.fit_transform(x)\n",
        "        print(\"After feature selection: \", len(x[0]), \" features\")\n",
        "        #print(x[0])\n",
        "    elif opt == \"kbest\":\n",
        "        print(\"\\nUsing K best features feature selection...\")\n",
        "        print(\"Shape of x before selection: \", x.shape)\n",
        "        x = SelectKBest(chi2, k=n_features).fit_transform(x, y)\n",
        "        print(\"Shape of x after selection: \", x.shape)\n",
        "    elif opt == \"pca\":\n",
        "        print(\"\\nUsing PCA feature selection...\")\n",
        "        x_scaled = StandardScaler().fit_transform(x)\n",
        "        pca = PCA(n_components=n_features)\n",
        "        pca_features = pca.fit_transform(x_scaled)\n",
        "        print('Shape before PCA: ', x_scaled.shape)\n",
        "        print('Shape after PCA: ', pca_features.shape)\n",
        "        x = pca_features\n",
        "    else:\n",
        "        print(\"\")\n",
        "    return x\n",
        "\n",
        "#select set option\n",
        "set = -1\n",
        "\n",
        "#import the dataset here (GISAID; try downloading individual FASTA files if di talaga kaya idownload yung EPISET)\n",
        "#if(set == -1):\n",
        "#    dataset_name = \"AFHE DATASET (05-04-2023).csv\"\n",
        "#elif(set == 0):\n",
        "#    dataset_name = \"ADJUSTED DATASET (05-04-2023).csv\"\n",
        "#else:\n",
        "#    dataset_name = \"ADJUSTED DOWNSIZED DATASET (05-04-2023).csv\"\n",
        "#dataset = pd.read_csv(dataset_name)\n",
        "\n",
        "dataset = pd.read_csv(\"AFHE DATASET (05-18-2023).csv\")\n",
        "\n",
        "#print(dataset['Lineage'].value_counts())\n",
        "\n",
        "#remove \"EPI_ISL_\" from ID\n",
        "#new_ID_col = []\n",
        "#for i in range(0, len(dataset['Accession ID'])):\n",
        "#    new_ID_col.append(str(dataset['Accession ID'].loc[i].replace(\"EPI_ISL_\", \"\")))\n",
        "#dataset['Accession ID'] = new_ID_col\n",
        "\n",
        "feature_cols = [c for c in dataset.columns[2:]]\n",
        "#print(feature_cols)\n",
        "\n",
        "x = dataset.loc[:,feature_cols].values #must be floats\n",
        "y = dataset.loc[:,'Lineage'].values #must be integers\n",
        "\n",
        "#print(x)\n",
        "#print(y)\n",
        "\n",
        "# Preprocessing with labels for the lineage\n",
        "le = preprocessing.LabelEncoder()\n",
        "y = le.fit_transform(y)\n",
        "\n",
        "x = x.astype(float)\n",
        "\n",
        "print(\"Shape of x: \", x.shape)\n",
        "print(\"Shape of y:\", y.shape)\n",
        "\n",
        "print(f\"Running time is {time.time() - start_time} seconds\")"
      ],
      "metadata": {
        "id": "BhLWVwaGFNWw",
        "colab": {
          "base_uri": "https://localhost:8080/"
        },
        "outputId": "c981ddae-5ea6-4362-b585-4bab7677204f"
      },
      "execution_count": 43,
      "outputs": [
        {
          "output_type": "stream",
          "name": "stdout",
          "text": [
            "Shape of x:  (8893, 512)\n",
            "Shape of y: (8893,)\n",
            "Running time is 0.2379772663116455 seconds\n"
          ]
        }
      ]
    },
    {
      "cell_type": "code",
      "source": [
        "# Feature Selection Cell (ensemble attempted)\n",
        "\n",
        "start_time = time.time()\n",
        "#x = feature_selection(x, \"var\", var_percent = 0.80)\n",
        "x = feature_selection(x, \"kbest\", n_features = 15)\n",
        "#x = feature_selection(x, \"pca\", n_features = 5)\n",
        "print(f\"Running time is {time.time() - start_time} seconds\")"
      ],
      "metadata": {
        "colab": {
          "base_uri": "https://localhost:8080/"
        },
        "id": "7ZM8Rdc1GAiq",
        "outputId": "229d7be1-b1ad-4eb9-8d57-7e1ec6aebf07"
      },
      "execution_count": 44,
      "outputs": [
        {
          "output_type": "stream",
          "name": "stdout",
          "text": [
            "\n",
            "Using K best features feature selection...\n",
            "Shape of x before selection:  (8893, 512)\n",
            "Shape of x after selection:  (8893, 15)\n",
            "Running time is 0.030429840087890625 seconds\n"
          ]
        }
      ]
    },
    {
      "cell_type": "code",
      "source": [
        "# Retrieve train and test sets\n",
        "\n",
        "start_time = time.time()\n",
        "X_train, X_test, y_train, y_test = train_test_split(\n",
        "    x, y, test_size=.40) #stratify=y\n",
        "print(f\"Running time is {time.time() - start_time} seconds\")\n",
        "#st_x = StandardScaler()\n",
        "#X_train = st_x.fit_transform(X_train)\n",
        "#X_test = st_x.transform(X_test)"
      ],
      "metadata": {
        "colab": {
          "base_uri": "https://localhost:8080/"
        },
        "id": "to8ualx7GEFT",
        "outputId": "3b2c82f9-f1c6-4422-9b21-a0799b6e2749"
      },
      "execution_count": 45,
      "outputs": [
        {
          "output_type": "stream",
          "name": "stdout",
          "text": [
            "Running time is 0.007148027420043945 seconds\n"
          ]
        }
      ]
    },
    {
      "cell_type": "code",
      "source": [
        "# Initialize SKLearn model\n",
        "\n",
        "skmodel = skLR(C=1)\n",
        "skmodel.fit(X_train,y_train)\n",
        "y_pred_sklearn = skmodel.predict(X_test)\n",
        "print(\"Accuracy for sklearn: \", skmodel.score(X_test,y_test)*100,\"%\")\n",
        "print(f\"Running time is {time.time() - start_time} seconds\")"
      ],
      "metadata": {
        "colab": {
          "base_uri": "https://localhost:8080/"
        },
        "id": "RIUoad8WGHaf",
        "outputId": "4a30afab-a734-4593-d78a-40df98193cbb"
      },
      "execution_count": 46,
      "outputs": [
        {
          "output_type": "stream",
          "name": "stdout",
          "text": [
            "Accuracy for sklearn:  98.62282181000562 %\n",
            "Running time is 1.8197946548461914 seconds\n"
          ]
        }
      ]
    },
    {
      "cell_type": "code",
      "source": [
        "# Initialize model and fix the number of bits to used for quantization \n",
        "\n",
        "model = LogisticRegression(C=1)\n",
        "\n",
        "# Fit the model\n",
        "model.fit(X_train, y_train)\n",
        "\n",
        "start_time = time.time()\n",
        "# Run the predictions on non-encrypted data as a reference\n",
        "y_pred_clear = model.predict(X_test)\n",
        "\n",
        "# Output (plaintext vs FHE):\n",
        "# print(\"In clear:  \", le.inverse_transform(y_pred_clear))\n",
        "# accuracy_score(y_test, y_pred_clear)\n",
        "print(\"Accuracy rate for quantized plaintext:  \", model.score(X_test,y_test) * 100, \"%\")\n",
        "print(f\"Running time is {time.time() - start_time} seconds\")\n",
        "\n",
        "#low/higly volatile accuracy may be attributed to small dataset and too many features \n",
        "#(feature selection needed and more samples are required)\n",
        "print(\"PREDICTION:\\n\", y_pred_clear)\n",
        "print(\"ACTUAL:\\n\", y_test) \n",
        "\n",
        "# Compile into a FHE model\n",
        "start_time = time.time()\n",
        "print(\"Compiling...\")\n",
        "model.compile(x)\n",
        "print(\"model compiled!\")\n",
        "print(f\"Running time is {time.time() - start_time} seconds\")\n",
        "\n",
        "# Run the inference in FHE\n",
        "start_time = time.time()\n",
        "print(\"Predicting in FHE...\")\n",
        "y_pred_fhe = model.predict(X_test, fhe=\"execute\")\n",
        "print(\"Accuracy rate for FHE:  \", accuracy_score(y_test, y_pred_fhe) * 100, \"%\")\n",
        "\n",
        "#print(\"In FHE    :\", y_pred_fhe)\n",
        "print(f\"Comparison: {int((y_pred_fhe == y_pred_clear).sum()/len(y_pred_fhe)*100)}% similar\")\n",
        "print(f\"Running time is {time.time() - start_time} seconds\")"
      ],
      "metadata": {
        "colab": {
          "base_uri": "https://localhost:8080/"
        },
        "id": "xiuG5jkrGI4a",
        "outputId": "5fc4db53-2181-4b24-a675-ce4586ea2863"
      },
      "execution_count": 48,
      "outputs": [
        {
          "output_type": "stream",
          "name": "stdout",
          "text": [
            "Accuracy rate for quantized plaintext:   98.62282181000562 %\n",
            "Running time is 0.0041637420654296875 seconds\n",
            "PREDICTION:\n",
            " [3 3 3 ... 0 0 0]\n",
            "ACTUAL:\n",
            " [3 3 3 ... 0 0 0]\n",
            "Compiling...\n",
            "model compiled!\n",
            "Running time is 4.045186996459961 seconds\n",
            "Predicting in FHE...\n",
            "Accuracy rate for FHE:   98.62282181000562 %\n",
            "Comparison: 100% similar\n",
            "Running time is 6.998184680938721 seconds\n"
          ]
        }
      ]
    },
    {
      "cell_type": "code",
      "source": [
        "#Get AUC for multiclass\n",
        "#NOTE WE HAVE A MULTICLASS BUT NOT MULTILABEL PROBLEM. only one label selected from multiple classes is assigned\n",
        "start_time = time.time()\n",
        "print(\"Scikit learn AUROC (One vs Rest): \", roc_auc_score(y, skmodel.predict_proba(x), multi_class='ovr'))\n",
        "print(\"Scikit learn AUROC (One vs One): \", roc_auc_score(y, skmodel.predict_proba(x), multi_class='ovo'))\n",
        "\n",
        "print(\"Concrete-ML AUROC (One vs Rest): \", roc_auc_score(y, model.predict_proba(x), multi_class='ovr'))\n",
        "print(\"Concrete-ML AUROC (One vs One): \", roc_auc_score(y, model.predict_proba(x), multi_class='ovo'))\n",
        "print(f\"Running time is {time.time() - start_time} seconds\")"
      ],
      "metadata": {
        "colab": {
          "base_uri": "https://localhost:8080/"
        },
        "id": "NAnw8wOaGKbT",
        "outputId": "7ec60758-6657-4088-aa98-26af90c2a1ea"
      },
      "execution_count": 49,
      "outputs": [
        {
          "output_type": "stream",
          "name": "stdout",
          "text": [
            "Scikit learn AUROC (One vs Rest):  0.9965911729700748\n",
            "Scikit learn AUROC (One vs One):  0.9962298634035968\n",
            "Concrete-ML AUROC (One vs Rest):  0.9965926858984495\n",
            "Concrete-ML AUROC (One vs One):  0.9962312662590772\n",
            "Running time is 0.17366385459899902 seconds\n"
          ]
        }
      ]
    },
    {
      "cell_type": "code",
      "source": [
        "# In[10]:\n",
        "start_time = time.time()\n",
        "\n",
        "from sklearn.metrics import confusion_matrix\n",
        "print(\"***Note: The diagonal elements are the correctly predicted samples. ***\")\n",
        "\n",
        "print(\"Confusion matrix for SKLearn Plaintext: \")\n",
        "print(confusion_matrix(y_test, y_pred_sklearn), \"\\n\")\n",
        "\n",
        "print(\"Confusion matrix for Quantized Plaintext: \")\n",
        "print(confusion_matrix(y_test, y_pred_clear), \"\\n\")\n",
        "\n",
        "#print(\"Confusion matrix for FHE: \")\n",
        "#print(confusion_matrix(y_test, y_pred_fhe))\n",
        "print(f\"Running time is {time.time() - start_time} seconds\")"
      ],
      "metadata": {
        "colab": {
          "base_uri": "https://localhost:8080/"
        },
        "id": "cwU0x9zZIF9E",
        "outputId": "4d155d33-5969-4250-d551-d27adff6f678"
      },
      "execution_count": 50,
      "outputs": [
        {
          "output_type": "stream",
          "name": "stdout",
          "text": [
            "***Note: The diagonal elements are the correctly predicted samples. ***\n",
            "Confusion matrix for SKLearn Plaintext: \n",
            "[[813   1   0   0]\n",
            " [ 35 791   2   3]\n",
            " [  0   0 920   0]\n",
            " [  6   1   1 985]] \n",
            "\n",
            "Confusion matrix for Quantized Plaintext: \n",
            "[[813   1   0   0]\n",
            " [ 35 792   1   3]\n",
            " [  0   1 919   0]\n",
            " [  6   1   1 985]] \n",
            "\n",
            "Running time is 0.008348941802978516 seconds\n"
          ]
        }
      ]
    },
    {
      "cell_type": "code",
      "source": [
        "from concrete.ml.sklearn.svm import LinearSVC\n",
        "from sklearn.svm import LinearSVC as skSVC\n",
        "from concrete.ml.sklearn.rf import RandomForestClassifier\n",
        "from sklearn.ensemble import RandomForestClassifier as skRF\n",
        "\n",
        "#SKLEARN LINEAR REGRESSION\n",
        "skmodel2 = skLinear()\n",
        "skmodel2.fit(X_train,y_train)\n",
        "skmodel2.predict(X_test)\n",
        "print(\"Sklearn Linear Regression Accuracy: \", skmodel2.score(X_test,y_test)*100,\"%\")\n",
        "\n",
        "model2 = LinearRegression()\n",
        "model2.fit(X_train,y_train)\n",
        "model2.predict(X_test)\n",
        "print(\"Concrete-ML Linear Regression Accuracy: \", model2.score(X_test,y_test)*100,\"%\")\n",
        "\n",
        "#SKLEARN RANDOM FOREST\n",
        "skmodel3 = skRF()\n",
        "skmodel3.fit(X_train, y_train)\n",
        "skmodel3.predict(X_test)\n",
        "print(\"Sklearn Random Forest Accuracy: \",skmodel3.score(X_test,y_test)*100,\"%\")\n",
        "\n",
        "model3 = RandomForestClassifier()\n",
        "model3.fit(X_train, y_train)\n",
        "model3.predict(X_test)\n",
        "print(\"Concrete-ML Random Forest Accuracy: \",model3.score(X_test,y_test)*100,\"%\")\n",
        "\n",
        "#SKLEARN SVC\n",
        "skmodel4 = skSVC()\n",
        "skmodel4.fit(X_train, y_train)\n",
        "skmodel4.predict(X_test)\n",
        "print(\"Sklearn SVC Accuracy: \",skmodel4.score(X_test,y_test)*100,\"%\")\n",
        "\n",
        "model4 = LinearSVC()\n",
        "model4.fit(X_train, y_train)\n",
        "model4.predict(X_test)\n",
        "print(\"Concrete-ML SVC Accuracy: \",model4.score(X_test,y_test)*100,\"%\")"
      ],
      "metadata": {
        "colab": {
          "base_uri": "https://localhost:8080/"
        },
        "id": "FhNGYU2NGL6r",
        "outputId": "ea2a01fa-4d3c-433f-955a-d7d66e520ac4"
      },
      "execution_count": 51,
      "outputs": [
        {
          "output_type": "stream",
          "name": "stdout",
          "text": [
            "Sklearn Linear Regression Accuracy:  95.9454071675609 %\n",
            "Concrete-ML Linear Regression Accuracy:  95.93989194770907 %\n",
            "Sklearn Random Forest Accuracy:  98.73524451939292 %\n",
            "Concrete-ML Random Forest Accuracy:  98.03260258572232 %\n",
            "Sklearn SVC Accuracy:  98.5947161326588 %\n",
            "Concrete-ML SVC Accuracy:  98.62282181000562 %\n"
          ]
        }
      ]
    },
    {
      "cell_type": "code",
      "source": [
        "# In[10]:\n",
        "\n",
        "\n",
        "#Attempting to save the model\n",
        "from concrete.ml.deployment import FHEModelClient, FHEModelDev, FHEModelServer\n",
        "\n",
        "start_time = time.time()\n",
        "\n",
        "fhemodel_dev = FHEModelDev(\"./concrete-covid-classifier\", model)\n",
        "fhemodel_dev.save()\n",
        "\n",
        "print(f\"Running time for saving the FHE model is {time.time() - start_time} seconds\")"
      ],
      "metadata": {
        "colab": {
          "base_uri": "https://localhost:8080/"
        },
        "id": "HYE6bmsjGj4C",
        "outputId": "ab4bb57a-e5aa-4022-9870-8bc63d5bc978"
      },
      "execution_count": 52,
      "outputs": [
        {
          "output_type": "stream",
          "name": "stdout",
          "text": [
            "Running time for saving the FHE model is 0.009760379791259766 seconds\n"
          ]
        }
      ]
    },
    {
      "cell_type": "code",
      "source": [
        "#Saving Scikit-learn model\n",
        "from joblib import dump, load\n",
        "\n",
        "dump(skmodel, './scikit-learn-classifier/scikitlearnmodel.joblib')\n",
        "#loaded_model = load('scikitlearnmodel.joblib')"
      ],
      "metadata": {
        "colab": {
          "base_uri": "https://localhost:8080/"
        },
        "id": "_kAxGRM1Glz1",
        "outputId": "6576cdbd-2aeb-454b-9d8f-a59cf9b5e09b"
      },
      "execution_count": 53,
      "outputs": [
        {
          "output_type": "execute_result",
          "data": {
            "text/plain": [
              "['./scikit-learn-classifier/scikitlearnmodel.joblib']"
            ]
          },
          "metadata": {},
          "execution_count": 53
        }
      ]
    }
  ]
}