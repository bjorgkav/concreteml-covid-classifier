{
  "cells": [
    {
      "cell_type": "code",
      "execution_count": null,
      "metadata": {
        "id": "BxTgm86BC9mC"
      },
      "outputs": [],
      "source": [
        "!pip install -U pip wheel setuptools\n",
        "!pip install concrete-ml"
      ]
    },
    {
      "cell_type": "code",
      "execution_count": null,
      "metadata": {
        "id": "-yQEwnwKEQ3F"
      },
      "outputs": [],
      "source": [
        "from google.colab import drive\n",
        "drive.mount('/content/gdrive')"
      ]
    },
    {
      "cell_type": "code",
      "execution_count": 1,
      "metadata": {
        "colab": {
          "base_uri": "https://localhost:8080/"
        },
        "id": "BhLWVwaGFNWw",
        "outputId": "c981ddae-5ea6-4362-b585-4bab7677204f"
      },
      "outputs": [
        {
          "name": "stderr",
          "output_type": "stream",
          "text": [
            "/home/vivs/.local/lib/python3.10/site-packages/tqdm/auto.py:21: TqdmWarning: IProgress not found. Please update jupyter and ipywidgets. See https://ipywidgets.readthedocs.io/en/stable/user_install.html\n",
            "  from .autonotebook import tqdm as notebook_tqdm\n"
          ]
        },
        {
          "name": "stdout",
          "output_type": "stream",
          "text": [
            "['B.1.1.529' 'B.1.617.2' 'B.1.621' 'C.37']\n",
            "Shape of x:  (8893, 512)\n",
            "Shape of y: (8893,)\n",
            "Running time is 1.021085262298584 seconds\n"
          ]
        }
      ],
      "source": [
        "from numpy import mean\n",
        "from numpy import std\n",
        "import matplotlib.pyplot as plt\n",
        "from sklearn.model_selection import train_test_split\n",
        "from sklearn import preprocessing\n",
        "from sklearn.metrics import accuracy_score, roc_auc_score, recall_score\n",
        "from concrete.ml.sklearn import LogisticRegression, LinearRegression\n",
        "from sklearn.linear_model import LogisticRegression as skLR\n",
        "from sklearn.linear_model import LinearRegression as skLinear\n",
        "from sklearn.preprocessing import StandardScaler\n",
        "from sklearn.model_selection import RepeatedKFold\n",
        "from sklearn.model_selection import cross_val_score\n",
        "from sklearn.feature_selection import VarianceThreshold\n",
        "from sklearn.feature_selection import SelectKBest, chi2\n",
        "from sklearn.preprocessing import StandardScaler\n",
        "from sklearn.decomposition import PCA\n",
        "import time, numpy\n",
        "import pandas as pd\n",
        "\n",
        "start_time = time.time()\n",
        "def feature_selection(x, opt = \"\", var_percent = 0.8, n_features = 30):\n",
        "    if opt == \"var\":\n",
        "        print(\"\\nUsing variance threshold feature selection...\")\n",
        "        # Remove all features that have low variance in more than (percent)% of the samples.\n",
        "        #percent = .80\n",
        "        sel = VarianceThreshold(threshold=(var_percent * (1 - var_percent)))\n",
        "        print(\"Shape of X: \", x.shape)\n",
        "        #print(x.iloc[0])\n",
        "        x = sel.fit_transform(x)\n",
        "        print(\"After feature selection: \", len(x[0]), \" features\")\n",
        "        #print(x[0])\n",
        "        cols_idxs = sel.get_support(indices=True)\n",
        "    elif opt == \"kbest\":\n",
        "        print(\"\\nUsing K best features feature selection...\")\n",
        "        print(\"Shape of x before selection: \", x.shape)\n",
        "        selector = SelectKBest(chi2, k=n_features)\n",
        "        x = selector.fit_transform(x, y)\n",
        "        \n",
        "        cols_idxs = selector.get_support(indices=True)\n",
        "        \n",
        "        print(\"Shape of x after selection: \", x.shape)\n",
        "    elif opt == \"pca\":\n",
        "        print(\"\\nUsing PCA feature selection...\")\n",
        "        x_scaled = StandardScaler().fit_transform(x)\n",
        "        pca = PCA(n_components=n_features)\n",
        "        pca_features = pca.fit_transform(x_scaled)\n",
        "        print('Shape before PCA: ', x_scaled.shape)\n",
        "        print('Shape after PCA: ', pca_features.shape)\n",
        "        x = pca_features\n",
        "        cols_idxs = pca.get_support(indices=True)\n",
        "    else:\n",
        "        print(\"\")\n",
        "    return x, cols_idxs\n",
        "\n",
        "#select set option\n",
        "set = -1\n",
        "\n",
        "#import the dataset here (GISAID; try downloading individual FASTA files if di talaga kaya idownload yung EPISET)\n",
        "#if(set == -1):\n",
        "#    dataset_name = \"AFHE DATASET (05-04-2023).csv\"\n",
        "#elif(set == 0):\n",
        "#    dataset_name = \"ADJUSTED DATASET (05-04-2023).csv\"\n",
        "#else:\n",
        "#    dataset_name = \"ADJUSTED DOWNSIZED DATASET (05-04-2023).csv\"\n",
        "#dataset = pd.read_csv(dataset_name)\n",
        "\n",
        "dataset = pd.read_csv(\"AFHE DATASET (05-18-2023).csv\")\n",
        "\n",
        "#print(dataset['Lineage'].value_counts())\n",
        "\n",
        "#remove \"EPI_ISL_\" from ID\n",
        "#new_ID_col = []\n",
        "#for i in range(0, len(dataset['Accession ID'])):\n",
        "#    new_ID_col.append(str(dataset['Accession ID'].loc[i].replace(\"EPI_ISL_\", \"\")))\n",
        "#dataset['Accession ID'] = new_ID_col\n",
        "\n",
        "feature_cols = [c for c in dataset.columns[2:]]\n",
        "#print(feature_cols)\n",
        "\n",
        "x = dataset.loc[:,feature_cols].values #must be floats\n",
        "y = dataset.loc[:,'Lineage'].values #must be integers\n",
        "\n",
        "#print(x)\n",
        "#print(y)\n",
        "\n",
        "# Preprocessing with labels for the lineage\n",
        "le = preprocessing.LabelEncoder()\n",
        "y = le.fit_transform(y)\n",
        "print(le.classes_)\n",
        "\n",
        "x = x.astype(float)\n",
        "\n",
        "print(\"Shape of x: \", x.shape)\n",
        "print(\"Shape of y:\", y.shape)\n",
        "\n",
        "print(f\"Running time is {time.time() - start_time} seconds\")"
      ]
    },
    {
      "cell_type": "code",
      "execution_count": 2,
      "metadata": {
        "colab": {
          "base_uri": "https://localhost:8080/"
        },
        "id": "7ZM8Rdc1GAiq",
        "outputId": "229d7be1-b1ad-4eb9-8d57-7e1ec6aebf07"
      },
      "outputs": [
        {
          "name": "stdout",
          "output_type": "stream",
          "text": [
            "\n",
            "Using K best features feature selection...\n",
            "Shape of x before selection:  (8893, 512)\n",
            "Shape of x after selection:  (8893, 20)\n",
            "Running time is 0.08910846710205078 seconds\n"
          ]
        }
      ],
      "source": [
        "# Feature Selection Cell (ensemble attempted)\n",
        "\n",
        "start_time = time.time()\n",
        "#x = feature_selection(x, \"var\", var_percent = 0.80)\n",
        "x, col_idxs = feature_selection(x, \"kbest\", n_features = 20)\n",
        "#x = feature_selection(x, \"pca\", n_features = 5)\n",
        "print(f\"Running time is {time.time() - start_time} seconds\")"
      ]
    },
    {
      "cell_type": "code",
      "execution_count": 3,
      "metadata": {
        "colab": {
          "base_uri": "https://localhost:8080/"
        },
        "id": "to8ualx7GEFT",
        "outputId": "3b2c82f9-f1c6-4422-9b21-a0799b6e2749"
      },
      "outputs": [
        {
          "name": "stdout",
          "output_type": "stream",
          "text": [
            "Test set size: (1779, 20)\n",
            "Running time is 0.002463102340698242 seconds\n"
          ]
        }
      ],
      "source": [
        "# Retrieve train and test sets\n",
        "\n",
        "def split(x,y):\n",
        "    X_train, X_test, y_train, y_test = train_test_split(\n",
        "    x, y, test_size=.20)\n",
        "\n",
        "    return X_train, X_test, y_train, y_test\n",
        "\n",
        "start_time = time.time()\n",
        "X_train, X_test, y_train, y_test = split(x,y)\n",
        "\n",
        "print(f\"Test set size: {X_test.shape}\")\n",
        "\n",
        "print(f\"Running time is {time.time() - start_time} seconds\")\n",
        "#st_x = StandardScaler()\n",
        "#X_train = st_x.fit_transform(X_train)\n",
        "#X_test = st_x.transform(X_test)"
      ]
    },
    {
      "cell_type": "code",
      "execution_count": 5,
      "metadata": {
        "colab": {
          "base_uri": "https://localhost:8080/"
        },
        "id": "RIUoad8WGHaf",
        "outputId": "4a30afab-a734-4593-d78a-40df98193cbb"
      },
      "outputs": [
        {
          "name": "stdout",
          "output_type": "stream",
          "text": [
            "Getting performance metrics for scikit-learn model (Plaintext)...\n",
            "99.10061832490163%\n",
            "99.15682967959528%\n",
            "98.8195615514334%\n",
            "99.43788645306351%\n",
            "99.21304103428893%\n",
            "99.04440697020797%\n",
            "99.32546374367622%\n",
            "99.32546374367622%\n",
            "98.87577290612704%\n",
            "99.43788645306351%\n",
            "Getting performance metrics for Concrete-ML model (Quantized Plaintext)...\n",
            "99.26925238898258%\n",
            "99.10061832490163%\n",
            "99.04440697020797%\n",
            "99.43788645306351%\n",
            "99.38167509836987%\n",
            "99.15682967959528%\n",
            "99.15682967959528%\n",
            "99.26925238898258%\n",
            "99.38167509836987%\n",
            "99.21304103428893%\n",
            "Getting performance metrics for Concrete-ML model (FHE)...\n",
            "99.26925238898258%\n",
            "99.10061832490163%\n",
            "99.04440697020797%\n",
            "99.43788645306351%\n",
            "99.38167509836987%\n",
            "99.15682967959528%\n",
            "99.15682967959528%\n",
            "99.26925238898258%\n",
            "99.38167509836987%\n",
            "99.21304103428893%\n"
          ]
        }
      ],
      "source": [
        "results = []\n",
        "print(\"Getting performance metrics for scikit-learn model (Plaintext)...\")\n",
        "\n",
        "for i in range(0,10):\n",
        "    X_train, X_test, y_train, y_test = split(x,y)\n",
        "    # start_time = time.time()\n",
        "    skmodel = skLR(C=1)\n",
        "    skmodel.fit(X_train,y_train)\n",
        "    y_pred_sklearn = skmodel.predict(X_test)\n",
        "    results.append(f\"{skmodel.score(X_test,y_test)*100}%\")\n",
        "\n",
        "for r in results:\n",
        "    print(f\"{r}\")\n",
        "#print(\"Accuracy for sklearn: \", skmodel.score(X_test,y_test)*100,\"%\")\n",
        "#print(f\"Running time is {time.time() - start_time} seconds\")\n",
        "\n",
        "quantized_results = []\n",
        "fhe_results = []\n",
        "print(\"Getting performance metrics for Concrete-ML model (Quantized Plaintext)...\")\n",
        "for i in range(0,10):\n",
        "    X_train, X_test, y_train, y_test = split(x,y)\n",
        "    model = LogisticRegression(C=1)\n",
        "    # Fit the model\n",
        "    model.fit(X_train, y_train)\n",
        "\n",
        "    # start_time = time.time()\n",
        "    # Run the predictions on non-encrypted data as a reference\n",
        "    y_pred_clear = model.predict(X_test)\n",
        "\n",
        "    quantized_results.append(f\"{model.score(X_test,y_test) * 100}%\")\n",
        "\n",
        "    #print(\"Compiling...\")\n",
        "    model.compile(x)\n",
        "\n",
        "    #print(\"model compiled!\")\n",
        "    y_pred_fhe = model.predict(X_test, fhe=\"execute\")\n",
        "\n",
        "    fhe_results.append(f\"{accuracy_score(y_test, y_pred_fhe) * 100}%\")\n",
        "    # print(\"Accuracy rate for quantized plaintext:  \", model.score(X_test,y_test) * 100, \"%\")\n",
        "    # print(f\"Running time is {time.time() - start_time} seconds\")\n",
        "\n",
        "for r in quantized_results:\n",
        "    print(f\"{r}\")\n",
        "\n",
        "print(\"Getting performance metrics for Concrete-ML model (FHE)...\")\n",
        "for r in fhe_results:\n",
        "    print(f\"{r}\")\n",
        "\n",
        "# for i in range(0,10):\n",
        "#     X_train, X_test, y_train, y_test = split(x,y)\n",
        "#     model = LogisticRegression(C=1)\n",
        "#     #Fit the model\n",
        "#     model.fit(X_train, y_train)\n",
        "#     print(\"Compiling...\")\n",
        "#     model.compile(x)\n",
        "#     print(\"model compiled!\")\n",
        "#     y_pred_fhe = model.predict(X_test, fhe=\"execute\")\n",
        "#     fhe_results.append(f\"{accuracy_score(y_test, y_pred_fhe) * 100}%\")\n",
        "\n"
      ]
    },
    {
      "cell_type": "code",
      "execution_count": 6,
      "metadata": {},
      "outputs": [
        {
          "name": "stdout",
          "output_type": "stream",
          "text": [
            "Getting performance metrics for scikit-learn model (Plaintext)...\n",
            "99.2693\n",
            "99.2130\n",
            "99.0444\n",
            "99.1568\n",
            "99.2693\n",
            "99.3255\n",
            "99.1006\n",
            "99.2130\n",
            "99.0444\n",
            "99.1568\n",
            "Getting performance metrics for Concrete-ML model (Quantized Plaintext)...\n",
            "99.3255\n",
            "99.1568\n",
            "99.1568\n",
            "99.3817\n",
            "99.1006\n",
            "99.2693\n",
            "98.9882\n",
            "99.4379\n",
            "98.9320\n",
            "99.2130\n",
            "Getting performance metrics for Concrete-ML model (FHE)...\n",
            "99.3255\n",
            "99.1568\n",
            "99.1568\n",
            "99.3817\n",
            "99.1006\n",
            "99.2693\n",
            "98.9882\n",
            "99.4379\n",
            "98.9320\n",
            "99.2130\n"
          ]
        }
      ],
      "source": [
        "results = []\n",
        "print(\"Getting performance metrics for scikit-learn model (Plaintext)...\")\n",
        "\n",
        "for i in range(0,10):\n",
        "    X_train, X_test, y_train, y_test = split(x,y)\n",
        "    # start_time = time.time()\n",
        "    skmodel = skLR(C=1)\n",
        "    skmodel.fit(X_train,y_train)\n",
        "    y_pred_sklearn = skmodel.predict(X_test)\n",
        "    sklearn_recall = recall_score(y_test, y_pred_sklearn, average='weighted') * 100\n",
        "    results.append(f\"{sklearn_recall:.4f}\")\n",
        "\n",
        "for r in results:\n",
        "    print(f\"{r}\")\n",
        "#print(\"Accuracy for sklearn: \", skmodel.score(X_test,y_test)*100,\"%\")\n",
        "#print(f\"Running time is {time.time() - start_time} seconds\")\n",
        "\n",
        "quantized_results = []\n",
        "fhe_results = []\n",
        "print(\"Getting performance metrics for Concrete-ML model (Quantized Plaintext)...\")\n",
        "for i in range(0,10):\n",
        "    X_train, X_test, y_train, y_test = split(x,y)\n",
        "    model = LogisticRegression(C=1)\n",
        "    # Fit the model\n",
        "    model.fit(X_train, y_train)\n",
        "\n",
        "    # start_time = time.time()\n",
        "    # Run the predictions on non-encrypted data as a reference\n",
        "    y_pred_clear = model.predict(X_test)\n",
        "    clear_recall = recall_score(y_test, y_pred_clear, average='weighted') * 100\n",
        "    quantized_results.append(f\"{clear_recall:.4f}\")\n",
        "    #print(\"Compiling...\")\n",
        "    model.compile(x)\n",
        "    #print(\"model compiled!\")\n",
        "    y_pred_fhe = model.predict(X_test, fhe=\"execute\")\n",
        "    fhe_recall = recall_score(y_test, y_pred_fhe, average='weighted') * 100\n",
        "    fhe_results.append(f\"{fhe_recall:.4f}\")\n",
        "    # print(\"Accuracy rate for quantized plaintext:  \", model.score(X_test,y_test) * 100, \"%\")\n",
        "    # print(f\"Running time is {time.time() - start_time} seconds\")\n",
        "\n",
        "for r in quantized_results:\n",
        "    print(f\"{r}\")\n",
        "\n",
        "print(\"Getting performance metrics for Concrete-ML model (FHE)...\")\n",
        "for r in fhe_results:\n",
        "    print(f\"{r}\")"
      ]
    },
    {
      "cell_type": "code",
      "execution_count": 22,
      "metadata": {},
      "outputs": [
        {
          "name": "stdout",
          "output_type": "stream",
          "text": [
            "Getting training time and number of iterations for scikit-learn model (Plaintext)...\n",
            "0.11515283584594727\n",
            "0.10010695457458496\n",
            "0.09884023666381836\n",
            "0.09921669960021973\n",
            "0.1005244255065918\n",
            "0.10477924346923828\n",
            "0.103546142578125\n",
            "0.09860682487487793\n",
            "0.10728764533996582\n",
            "0.10528349876403809\n",
            "Getting training time and number of iterations for Concrete-ML model (Quantized Plaintext and FHE)...\n",
            "0.15726709365844727\n",
            "0.14537501335144043\n",
            "0.14093422889709473\n",
            "0.1368248462677002\n",
            "0.13656854629516602\n",
            "0.1330571174621582\n",
            "0.1362626552581787\n",
            "0.14474034309387207\n",
            "0.13830804824829102\n",
            "0.1439347267150879\n"
          ]
        }
      ],
      "source": [
        "# Get running time for training of models\n",
        "print(\"Getting training time and number of iterations for scikit-learn model (Plaintext)...\")\n",
        "results = []\n",
        "\n",
        "for i in range(0,10):\n",
        "    start_time = time.time()\n",
        "    X_train, X_test, y_train, y_test = split(x,y)\n",
        "    skmodel = skLR(C=1)\n",
        "    skmodel.fit(X_train,y_train)\n",
        "    results.append(f\"{time.time() - start_time}\")\n",
        "\n",
        "for r in results:\n",
        "    print(f\"{r}\")\n",
        "\n",
        "print(\"Getting training time and number of iterations for Concrete-ML model (Quantized Plaintext and FHE)...\")\n",
        "quantized_results = []\n",
        "\n",
        "for i in range(0,10):\n",
        "    X_train, X_test, y_train, y_test = split(x,y)\n",
        "    model = LogisticRegression(C=1)\n",
        "    start_time = time.time()\n",
        "    model.fit(X_train, y_train)\n",
        "    quantized_results.append(f\"{time.time() - start_time}\")\n",
        "\n",
        "for r in quantized_results:\n",
        "    print(f\"{r}\")"
      ]
    },
    {
      "cell_type": "code",
      "execution_count": 23,
      "metadata": {},
      "outputs": [
        {
          "name": "stdout",
          "output_type": "stream",
          "text": [
            "Getting running time for scikit-learn model (Plaintext)...\n",
            "0.0002739429473876953\n",
            "0.0002944469451904297\n",
            "0.0002410411834716797\n",
            "0.0002288818359375\n",
            "0.00021719932556152344\n",
            "0.00023627281188964844\n",
            "0.000225067138671875\n",
            "0.0002446174621582031\n",
            "0.00021696090698242188\n",
            "0.0002117156982421875\n",
            "Getting running time for Concrete-ML model (Quantized Plaintext)...\n",
            "Compiling...\n",
            "Compiling...\n",
            "Compiling...\n",
            "Compiling...\n",
            "Compiling...\n",
            "Compiling...\n",
            "Compiling...\n",
            "Compiling...\n",
            "Compiling...\n",
            "Compiling...\n",
            "0.0007162094116210938\n",
            "0.0006201267242431641\n",
            "0.0007562637329101562\n",
            "0.0008978843688964844\n",
            "0.0006480216979980469\n",
            "0.00064849853515625\n",
            "0.0007307529449462891\n",
            "0.0008087158203125\n",
            "0.0006558895111083984\n",
            "0.0005991458892822266\n",
            "Getting running time for Concrete-ML model (FHE)...\n",
            "0.0008559226989746094\n",
            "0.0010151863098144531\n",
            "0.0007727146148681641\n",
            "0.0007898807525634766\n",
            "0.0008909702301025391\n",
            "0.0010039806365966797\n",
            "0.0007913112640380859\n",
            "0.0008320808410644531\n",
            "0.0008444786071777344\n",
            "0.0008609294891357422\n"
          ]
        }
      ],
      "source": [
        "print(\"Getting running time for scikit-learn model (Plaintext)...\")\n",
        "results = []\n",
        "\n",
        "for i in range(0,10):\n",
        "    X_train, X_test, y_train, y_test = split(x,y)\n",
        "    skmodel = skLR(C=1)\n",
        "    skmodel.fit(X_train,y_train)\n",
        "    start_time = time.time()\n",
        "    y_pred_sklearn = skmodel.predict(X_test)\n",
        "    results.append(f\"{time.time() - start_time}\")\n",
        "\n",
        "for r in results:\n",
        "    print(f\"{r}\")\n",
        "\n",
        "print(\"Getting running time for Concrete-ML model (Quantized Plaintext)...\")\n",
        "quantized_results = []\n",
        "fhe_results = []\n",
        "\n",
        "for i in range(0,10):\n",
        "    X_train, X_test, y_train, y_test = split(x,y)\n",
        "    model = LogisticRegression(C=1)\n",
        "    model.fit(X_train, y_train)\n",
        "    start_time = time.time()\n",
        "    y_pred_clear = model.predict(X_test)\n",
        "    quantized_results.append(f\"{time.time() - start_time}\")\n",
        "    print(\"Compiling...\")\n",
        "    model.compile(x)\n",
        "    start_time = time.time()\n",
        "    y_pred_clear = model.predict(X_test)\n",
        "    fhe_results.append(f\"{time.time() - start_time}\")\n",
        "\n",
        "for r in quantized_results:\n",
        "    print(f\"{r}\")\n",
        "\n",
        "print(\"Getting running time for Concrete-ML model (FHE)...\")\n",
        "for r in fhe_results:\n",
        "    print(f\"{r}\")"
      ]
    },
    {
      "cell_type": "code",
      "execution_count": 24,
      "metadata": {
        "colab": {
          "base_uri": "https://localhost:8080/"
        },
        "id": "NAnw8wOaGKbT",
        "outputId": "7ec60758-6657-4088-aa98-26af90c2a1ea"
      },
      "outputs": [
        {
          "name": "stdout",
          "output_type": "stream",
          "text": [
            "Getting performance metrics for scikit-learn model (Plaintext)...\n",
            "0.9998827507003749\n",
            "0.9998911674435768\n",
            "0.9998763346465458\n",
            "0.9998802084256557\n",
            "0.9998814936841236\n",
            "0.9998840568320231\n",
            "0.9998904370700985\n",
            "0.9998745939655168\n",
            "0.9998651259909324\n",
            "0.9998674615238703\n",
            "Getting performance metrics for Concrete-ML model (Quantized Plaintext)...\n",
            "0.9998943862045078\n",
            "0.999892196023993\n",
            "0.9998680972871149\n",
            "0.9998753891472196\n",
            "0.9998929684315332\n",
            "0.9998862668766961\n",
            "0.9998247935964271\n",
            "0.999880936055072\n",
            "0.9998816714261061\n",
            "0.9998589872703502\n",
            "Getting performance metrics for Concrete-ML model (FHE)...\n",
            "0.9998943862045078\n",
            "0.999892196023993\n",
            "0.9998680972871149\n",
            "0.9998753891472196\n",
            "0.9998929684315332\n",
            "0.9998862668766961\n",
            "0.9998247935964271\n",
            "0.999880936055072\n",
            "0.9998816714261061\n",
            "0.9998589872703502\n"
          ]
        }
      ],
      "source": [
        "#Get AUC for multiclass\n",
        "#NOTE WE HAVE A MULTICLASS BUT NOT MULTILABEL PROBLEM. only one label selected from multiple classes is assigned\n",
        "start_time = time.time()\n",
        "results = []\n",
        "quantized_results = []\n",
        "fhe_results = []\n",
        "\n",
        "print(\"Getting performance metrics for scikit-learn model (Plaintext)...\")\n",
        "for i in range(0,10):\n",
        "    X_train, X_test, y_train, y_test = split(x,y)\n",
        "    #start_time = time.time()\n",
        "    skmodel = skLR(C=1)\n",
        "    skmodel.fit(X_train,y_train)\n",
        "    results.append(roc_auc_score(y, skmodel.predict_proba(x), multi_class='ovr'))\n",
        "\n",
        "for r in results:\n",
        "    print(f\"{r}\")\n",
        "\n",
        "print(\"Getting performance metrics for Concrete-ML model (Quantized Plaintext)...\")\n",
        "for i in range(0,10):\n",
        "    X_train, X_test, y_train, y_test = split(x,y)\n",
        "    model = LogisticRegression(C=1)\n",
        "    # Fit the model\n",
        "    model.fit(X_train, y_train)\n",
        "    quantized_results.append(roc_auc_score(y, model.predict_proba(x), multi_class='ovr'))\n",
        "    #print(\"Compiling...\")\n",
        "    model.compile(x)\n",
        "    fhe_results.append(roc_auc_score(y, model.predict_proba(x), multi_class='ovr'))\n",
        "\n",
        "for r in quantized_results:\n",
        "    print(f\"{r}\")\n",
        "\n",
        "print(\"Getting performance metrics for Concrete-ML model (FHE)...\")\n",
        "for r in fhe_results:\n",
        "    print(f\"{r}\")"
      ]
    },
    {
      "cell_type": "code",
      "execution_count": 25,
      "metadata": {
        "colab": {
          "base_uri": "https://localhost:8080/"
        },
        "id": "cwU0x9zZIF9E",
        "outputId": "4d155d33-5969-4250-d551-d27adff6f678"
      },
      "outputs": [
        {
          "name": "stdout",
          "output_type": "stream",
          "text": [
            "***Note: The diagonal elements are the correctly predicted samples. ***\n",
            "Confusion matrix for SKLearn Plaintext: \n"
          ]
        },
        {
          "data": {
            "image/png": "[encoded data removed]",
            "text/plain": [
              "<Figure size 640x480 with 2 Axes>"
            ]
          },
          "metadata": {},
          "output_type": "display_data"
        },
        {
          "name": "stdout",
          "output_type": "stream",
          "text": [
            "Confusion matrix for Quantized Plaintext: \n"
          ]
        },
        {
          "data": {
            "image/png": "[encoded data removed]",
            "text/plain": [
              "<Figure size 640x480 with 2 Axes>"
            ]
          },
          "metadata": {},
          "output_type": "display_data"
        },
        {
          "name": "stdout",
          "output_type": "stream",
          "text": [
            "Confusion matrix for FHE: \n"
          ]
        },
        {
          "data": {
            "image/png": "[encoded data removed]",
            "text/plain": [
              "<Figure size 640x480 with 2 Axes>"
            ]
          },
          "metadata": {},
          "output_type": "display_data"
        },
        {
          "name": "stdout",
          "output_type": "stream",
          "text": [
            "Running time is 3.6836512088775635 seconds\n",
            "Comparison (FHE vs Plaintext): 100% similar\n",
            "Comparison (FHE vs Quantized Plaintext): 100% similar\n"
          ]
        }
      ],
      "source": [
        "# In[10]:\n",
        "start_time = time.time()\n",
        "\n",
        "from sklearn.metrics import confusion_matrix, ConfusionMatrixDisplay\n",
        "\n",
        "print(\"***Note: The diagonal elements are the correctly predicted samples. ***\")\n",
        "\n",
        "#use the scikit-learn classes because we use the same class naman\n",
        "X_train, X_test, y_train, y_test = split(x,y)\n",
        "\n",
        "print(\"Confusion matrix for SKLearn Plaintext: \")\n",
        "#print(confusion_matrix(y_test, y_pred_sklearn), \"\\n\")\n",
        "skmodel = skLR(C=1)\n",
        "skmodel.fit(X_train,y_train)\n",
        "y_pred_sklearn = skmodel.predict(X_test)\n",
        "sklearn_cm_display = ConfusionMatrixDisplay(confusion_matrix(y_test, y_pred_sklearn), display_labels=le.classes_)\n",
        "sklearn_cm_display.plot()\n",
        "plt.show()\n",
        "\n",
        "print(\"Confusion matrix for Quantized Plaintext: \")\n",
        "#print(confusion_matrix(y_test, y_pred_clear), \"\\n\")\n",
        "model = LogisticRegression(C=1)\n",
        "model.fit(X_train,y_train)\n",
        "y_pred_clear = model.predict(X_test)\n",
        "concrete_plain_display = ConfusionMatrixDisplay(confusion_matrix(y_test, y_pred_clear), display_labels=le.classes_)\n",
        "concrete_plain_display.plot()\n",
        "plt.show()\n",
        "\n",
        "print(\"Confusion matrix for FHE: \")\n",
        "#print(confusion_matrix(y_test, y_pred_fhe))\n",
        "model.compile(x)\n",
        "y_pred_fhe = model.predict(X_test)\n",
        "concrete_fhe_display = ConfusionMatrixDisplay(confusion_matrix(y_test, y_pred_fhe), display_labels=le.classes_)\n",
        "concrete_fhe_display.plot()\n",
        "plt.show()\n",
        "\n",
        "print(f\"Running time is {time.time() - start_time} seconds\")\n",
        "\n",
        "print(f\"Comparison (FHE vs Plaintext): {int((y_pred_fhe == y_pred_sklearn).sum()/len(y_pred_fhe)*100)}% similar\")\n",
        "print(f\"Comparison (FHE vs Quantized Plaintext): {int((y_pred_fhe == y_pred_clear).sum()/len(y_pred_fhe)*100)}% similar\")"
      ]
    },
    {
      "cell_type": "code",
      "execution_count": 7,
      "metadata": {
        "colab": {
          "base_uri": "https://localhost:8080/"
        },
        "id": "FhNGYU2NGL6r",
        "outputId": "ea2a01fa-4d3c-433f-955a-d7d66e520ac4"
      },
      "outputs": [
        {
          "name": "stdout",
          "output_type": "stream",
          "text": [
            "Sklearn Accuracy (Linear Reg, RF, SVC):\n",
            "94.63670812222284 99.60652051714446 99.04440697020797\n",
            "95.53008212997311 99.43788645306351 99.21304103428893\n",
            "94.33606195806688 99.26925238898258 98.70713884204609\n",
            "95.43734097632851 99.55030916245082 99.26925238898258\n",
            "95.94692315877911 99.55030916245082 99.55030916245082\n",
            "95.17837911541143 99.55030916245082 99.10061832490163\n",
            "95.04819301439444 99.55030916245082 99.10061832490163\n",
            "94.8139942730174 99.38167509836987 98.76335019673974\n",
            "94.27050985292007 99.38167509836987 99.10061832490163\n",
            "94.32152496763028 99.21304103428893 98.93198426082068\n",
            "Concrete-ML Accuracy (Linear Reg, RF, SVC):\n",
            "Run 1:\n",
            "94.61032413210353   98.76335019673974   99.10061832490163\n",
            "FHE Version:\n",
            "94.61032413210353   98.76335019673974   99.10061832490163\n",
            "Run 2:\n",
            "95.52427875238459   98.93198426082068   99.10061832490163\n",
            "FHE Version:\n",
            "95.52427875238459   98.93198426082068   99.10061832490163\n",
            "Run 3:\n",
            "95.27817938526036   98.93198426082068   99.04440697020797\n",
            "FHE Version:\n",
            "95.27817938526036   98.93198426082068   99.04440697020797\n",
            "Run 4:\n",
            "96.1398808997701   99.32546374367622   99.38167509836987\n",
            "FHE Version:\n",
            "96.1398808997701   99.32546374367622   99.38167509836987\n",
            "Run 5:\n",
            "95.99660468516824   99.15682967959528   98.98819561551433\n",
            "FHE Version:\n",
            "95.99660468516824   99.15682967959528   98.98819561551433\n",
            "Run 6:\n",
            "95.51622963115324   99.04440697020797   99.15682967959528\n",
            "FHE Version:\n",
            "95.51622963115324   99.04440697020797   99.15682967959528\n",
            "Run 7:\n",
            "95.622614584844   99.43788645306351   99.15682967959528\n",
            "FHE Version:\n",
            "95.622614584844   99.43788645306351   99.15682967959528\n",
            "Run 8:\n",
            "95.33083868354117   98.65092748735245   98.87577290612704\n",
            "FHE Version:\n",
            "95.33083868354117   98.65092748735245   98.87577290612704\n",
            "Run 9:\n",
            "94.96614778663348   99.21304103428893   99.04440697020797\n",
            "FHE Version:\n",
            "94.96614778663348   99.21304103428893   99.04440697020797\n",
            "Run 10:\n",
            "94.61162805137127   98.93198426082068   99.10061832490163\n",
            "FHE Version:\n",
            "94.61162805137127   98.93198426082068   99.10061832490163\n"
          ]
        }
      ],
      "source": [
        "from concrete.ml.sklearn.svm import LinearSVC\n",
        "from sklearn.svm import LinearSVC as skSVC\n",
        "from concrete.ml.sklearn.rf import RandomForestClassifier\n",
        "from sklearn.ensemble import RandomForestClassifier as skRF\n",
        "\n",
        "print(f\"Sklearn Accuracy (Linear Reg, RF, SVC):\")\n",
        "\n",
        "for i in range(0,10):\n",
        "    X_train, X_test, y_train, y_test = split(x,y)\n",
        "\n",
        "    #SKLEARN LINEAR REGRESSION\n",
        "    skmodel2 = skLinear()\n",
        "    skmodel2.fit(X_train,y_train)\n",
        "    skmodel2.predict(X_test)\n",
        "    #print(\"Sklearn Linear Regression Accuracy: \", skmodel2.score(X_test,y_test)*100,\"%\")\n",
        "\n",
        "    #SKLEARN RANDOM FOREST\n",
        "    skmodel3 = skRF()\n",
        "    skmodel3.fit(X_train, y_train)\n",
        "    skmodel3.predict(X_test)\n",
        "    #print(\"Sklearn Random Forest Accuracy: \",skmodel3.score(X_test,y_test)*100,\"%\")\n",
        "\n",
        "    #SKLEARN SVC\n",
        "    skmodel4 = skSVC()\n",
        "    skmodel4.fit(X_train, y_train)\n",
        "    skmodel4.predict(X_test)\n",
        "    #print(\"Sklearn SVC Accuracy: \",skmodel4.score(X_test,y_test)*100,\"%\")\n",
        "\n",
        "    print(f\"{skmodel2.score(X_test,y_test)*100} {skmodel3.score(X_test,y_test)*100} {skmodel4.score(X_test,y_test)*100}\")\n",
        "\n",
        "print(f\"Concrete-ML Accuracy (Linear Reg, RF, SVC):\")\n",
        "\n",
        "for i in range(0,10):\n",
        "    print(f\"Run {i+1}:\")\n",
        "    X_train, X_test, y_train, y_test = split(x,y)\n",
        "    model2 = LinearRegression()\n",
        "    model2.fit(X_train,y_train)\n",
        "    model2.predict(X_test)\n",
        "    #print(\"Concrete-ML Linear Regression Accuracy: \", model2.score(X_test,y_test)*100,\"%\")\n",
        "\n",
        "    model3 = RandomForestClassifier()\n",
        "    model3.fit(X_train, y_train)\n",
        "    model3.predict(X_test)\n",
        "    #print(\"Concrete-ML Random Forest Accuracy: \",model3.score(X_test,y_test)*100,\"%\")\n",
        "\n",
        "    model4 = LinearSVC()\n",
        "    model4.fit(X_train, y_train)\n",
        "    model4.predict(X_test)\n",
        "    #print(\"Concrete-ML SVC Accuracy: \",model4.score(X_test,y_test)*100,\"%\")\n",
        "\n",
        "    print(f\"{model2.score(X_test,y_test)*100}   {model3.score(X_test,y_test)*100}   {model4.score(X_test,y_test)*100}\")\n",
        "\n",
        "    model2.compile(x)\n",
        "    model3.compile(x)\n",
        "    model4.compile(x)\n",
        "    model2.predict(X_test)\n",
        "    model3.predict(X_test)\n",
        "    model4.predict(X_test)\n",
        "\n",
        "    print(f\"FHE Version:\")\n",
        "    print(f\"{model2.score(X_test,y_test)*100}   {model3.score(X_test,y_test)*100}   {model4.score(X_test,y_test)*100}\")\n",
        "\n",
        "for i in range(0,10):\n",
        "    X_train, X_test, y_train, y_test = split(x,y)\n",
        "    model2 = LinearRegression()\n",
        "    model2.fit(X_train,y_train)\n",
        "    model2.compile(x)\n",
        "    model2.predict(X_test)\n",
        "    #print(\"Concrete-ML Linear Regression Accuracy: \", model2.score(X_test,y_test)*100,\"%\")\n",
        "\n",
        "    model3 = RandomForestClassifier()\n",
        "    model3.fit(X_train, y_train)\n",
        "    model3.compile(x)\n",
        "    model3.predict(X_test)\n",
        "    #print(\"Concrete-ML Random Forest Accuracy: \",model3.score(X_test,y_test)*100,\"%\")\n",
        "\n",
        "    model4 = LinearSVC()\n",
        "    model4.fit(X_train, y_train)\n",
        "    model4.compile(x)\n",
        "    model4.predict(X_test)\n",
        "    #print(\"Concrete-ML SVC Accuracy: \",model4.score(X_test,y_test)*100,\"%\")\n",
        "\n",
        "#     print(f\"{model2.score(X_test,y_test)*100}   {model3.score(X_test,y_test)*100}   {model4.score(X_test,y_test)*100}\")"
      ]
    },
    {
      "cell_type": "code",
      "execution_count": null,
      "metadata": {},
      "outputs": [
        {
          "name": "stdout",
          "output_type": "stream",
          "text": [
            "Getting performance metrics for Concrete-ML model (FHE)...\n",
            "2.047241449356079\n",
            "2.0266034603118896\n",
            "1.970088005065918\n",
            "2.0242104530334473\n",
            "1.9397697448730469\n",
            "2.0181257724761963\n",
            "2.008958339691162\n",
            "2.0485622882843018\n",
            "2.002124786376953\n",
            "1.998833179473877\n"
          ]
        }
      ],
      "source": [
        "#testing 10 runs to see the average compilation time of the FHE model\n",
        "fhe_compile_results = []\n",
        "\n",
        "print(\"Getting compilation metrics in seconds for Concrete-ML model (FHE)...\")\n",
        "for i in range(0,10):\n",
        "    X_train, X_test, y_train, y_test = split(x,y)\n",
        "    model = LogisticRegression(C=1)\n",
        "    # Fit the model\n",
        "    model.fit(X_train, y_train)\n",
        "    #print(\"Compiling...\")\n",
        "\n",
        "    start_time = time.time()\n",
        "    model.compile(x)\n",
        "    fhe_compile_results.append(f\"{time.time()-start_time}\")\n",
        "\n",
        "for r in fhe_compile_results:\n",
        "    print(f\"{r}\")"
      ]
    },
    {
      "cell_type": "code",
      "execution_count": 8,
      "metadata": {
        "colab": {
          "base_uri": "https://localhost:8080/"
        },
        "id": "HYE6bmsjGj4C",
        "outputId": "ab4bb57a-e5aa-4022-9870-8bc63d5bc978"
      },
      "outputs": [
        {
          "name": "stdout",
          "output_type": "stream",
          "text": [
            "Running time for saving the FHE model is 4.887580871582031e-05 seconds\n",
            "feature_32\n",
            "feature_65\n",
            "feature_73\n",
            "feature_76\n",
            "feature_126\n",
            "feature_140\n",
            "feature_157\n",
            "feature_183\n",
            "feature_209\n",
            "feature_224\n",
            "feature_283\n",
            "feature_327\n",
            "feature_343\n",
            "feature_346\n",
            "feature_369\n",
            "feature_397\n",
            "feature_413\n",
            "feature_486\n",
            "feature_489\n",
            "feature_493\n",
            "B.1.1.529\n",
            "B.1.617.2\n",
            "B.1.621\n",
            "C.37\n",
            "Running time for saving the LabelEncoder classes is 0.0017614364624023438 seconds\n"
          ]
        }
      ],
      "source": [
        "import json\n",
        "\n",
        "#Attempting to save the model\n",
        "from concrete.ml.deployment import FHEModelClient, FHEModelDev, FHEModelServer\n",
        "\n",
        "start_time = time.time()\n",
        "\n",
        "# fhemodel_dev = FHEModelDev(\"./concrete-covid-classifier\", model)\n",
        "# fhemodel_dev.save()\n",
        "\n",
        "print(f\"Running time for saving the FHE model is {time.time() - start_time} seconds\")\n",
        "\n",
        "start_time = time.time()\n",
        "\n",
        "for col in col_idxs:\n",
        "    print(feature_cols[col])\n",
        "\n",
        "for c in le.classes_:\n",
        "    print(c)\n",
        "\n",
        "with open(\"features_and_classes.txt\", \"w\") as f:\n",
        "    classes_list = list(le.classes_)\n",
        "    temp_dict = {\"features\":[feature_cols[col] for col in col_idxs], \"classes\":{classes_list.index(x):x for x in classes_list}}\n",
        "\n",
        "    f.write(json.dumps(temp_dict))\n",
        "\n",
        "    \n",
        "\n",
        "print(f\"Running time for saving the LabelEncoder classes is {time.time() - start_time} seconds\")"
      ]
    },
    {
      "cell_type": "code",
      "execution_count": 16,
      "metadata": {
        "colab": {
          "base_uri": "https://localhost:8080/"
        },
        "id": "_kAxGRM1Glz1",
        "outputId": "6576cdbd-2aeb-454b-9d8f-a59cf9b5e09b"
      },
      "outputs": [
        {
          "data": {
            "text/plain": [
              "['./scikit-learn-classifier/scikitlearnmodel.joblib']"
            ]
          },
          "execution_count": 16,
          "metadata": {},
          "output_type": "execute_result"
        }
      ],
      "source": [
        "#Saving Scikit-learn model\n",
        "from joblib import dump, load\n",
        "\n",
        "dump(skmodel, './scikit-learn-classifier/scikitlearnmodel.joblib')\n",
        "#loaded_model = load('scikitlearnmodel.joblib')"
      ]
    },
    {
      "cell_type": "code",
      "execution_count": 6,
      "metadata": {},
      "outputs": [
        {
          "name": "stdout",
          "output_type": "stream",
          "text": [
            "Condition number of scikit-learn model:\n",
            "1.105945502735097\n",
            "Condition number of quantized model:\n",
            "1.105440477537656\n",
            "Condition number of FHE model:\n",
            "1.105440477537656\n"
          ]
        }
      ],
      "source": [
        "#trying condition numbers\n",
        "import numpy as np\n",
        "\n",
        "X_train, X_test, y_train, y_test = split(x,y)\n",
        "\n",
        "skmodel = skLR(C=1)\n",
        "skmodel.fit(X_train,y_train)\n",
        "sklearn_condition = np.linalg.cond(skmodel.predict_proba(X_test))\n",
        "\n",
        "model = LogisticRegression(C=1)\n",
        "model.fit(X_train, y_train)\n",
        "quant_condition = np.linalg.cond(model.predict_proba(X_test))\n",
        "\n",
        "model.compile(x)\n",
        "fhe_condition = np.linalg.cond(model.predict_proba(X_test))\n",
        "\n",
        "print(f\"Condition number of scikit-learn model:\\n{sklearn_condition}\")\n",
        "print(f\"Condition number of quantized model:\\n{quant_condition}\")\n",
        "print(f\"Condition number of FHE model:\\n{fhe_condition}\")"
      ]
    }
  ],
  "metadata": {
    "colab": {
      "provenance": []
    },
    "kernelspec": {
      "display_name": "Python 3",
      "name": "python3"
    },
    "language_info": {
      "codemirror_mode": {
        "name": "ipython",
        "version": 3
      },
      "file_extension": ".py",
      "mimetype": "text/x-python",
      "name": "python",
      "nbconvert_exporter": "python",
      "pygments_lexer": "ipython3",
      "version": "3.10.6"
    }
  },
  "nbformat": 4,
  "nbformat_minor": 0
}
