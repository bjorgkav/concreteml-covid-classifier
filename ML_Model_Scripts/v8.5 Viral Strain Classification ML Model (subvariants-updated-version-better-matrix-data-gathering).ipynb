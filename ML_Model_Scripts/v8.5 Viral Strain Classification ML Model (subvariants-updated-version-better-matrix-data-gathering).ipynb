{
  "cells": [
    {
      "cell_type": "code",
      "execution_count": null,
      "metadata": {
        "id": "BxTgm86BC9mC"
      },
      "outputs": [],
      "source": [
        "!pip install -U pip wheel setuptools\n",
        "!pip install concrete-ml"
      ]
    },
    {
      "cell_type": "code",
      "execution_count": null,
      "metadata": {
        "id": "-yQEwnwKEQ3F"
      },
      "outputs": [],
      "source": [
        "from google.colab import drive\n",
        "drive.mount('/content/gdrive')"
      ]
    },
    {
      "cell_type": "code",
      "execution_count": 27,
      "metadata": {
        "colab": {
          "base_uri": "https://localhost:8080/"
        },
        "id": "BhLWVwaGFNWw",
        "outputId": "c981ddae-5ea6-4362-b585-4bab7677204f"
      },
      "outputs": [
        {
          "name": "stdout",
          "output_type": "stream",
          "text": [
            "['B.1.1.529' 'B.1.617.2' 'B.1.621' 'BA.1' 'BA.1.1' 'BA.1.17.2' 'BA.2'\n",
            " 'C.37']\n",
            "Shape of x:  (4007, 512)\n",
            "Shape of y: (4007,)\n",
            "Running time is 0.17460203170776367 seconds\n"
          ]
        }
      ],
      "source": [
        "from numpy import mean\n",
        "from numpy import std\n",
        "import matplotlib.pyplot as plt\n",
        "from sklearn.model_selection import train_test_split\n",
        "from sklearn import preprocessing\n",
        "from sklearn.metrics import accuracy_score, roc_auc_score\n",
        "from concrete.ml.sklearn import LogisticRegression, LinearRegression\n",
        "from sklearn.linear_model import LogisticRegression as skLR\n",
        "from sklearn.linear_model import LinearRegression as skLinear\n",
        "from sklearn.preprocessing import StandardScaler\n",
        "from sklearn.model_selection import RepeatedKFold\n",
        "from sklearn.model_selection import cross_val_score\n",
        "from sklearn.feature_selection import VarianceThreshold\n",
        "from sklearn.feature_selection import SelectKBest, chi2\n",
        "from sklearn.preprocessing import StandardScaler\n",
        "from sklearn.decomposition import PCA\n",
        "import time\n",
        "import pandas as pd\n",
        "\n",
        "start_time = time.time()\n",
        "def feature_selection(x, opt = \"\", var_percent = 0.8, n_features = 30):\n",
        "    if opt == \"var\":\n",
        "        print(\"\\nUsing variance threshold feature selection...\")\n",
        "        # Remove all features that have low variance in more than (percent)% of the samples.\n",
        "        sel = VarianceThreshold(threshold=(var_percent * (1 - var_percent)))\n",
        "        print(\"Shape of X: \", x.shape)\n",
        "        x = sel.fit_transform(x)\n",
        "        print(\"After feature selection: \", len(x[0]), \" features\")\n",
        "        cols_idxs = sel.get_support(indices=True)\n",
        "    elif opt == \"kbest\":\n",
        "        print(\"\\nUsing K best features feature selection...\")\n",
        "        print(\"Shape of x before selection: \", x.shape)\n",
        "        sel = SelectKBest(chi2, k=n_features)\n",
        "        x = sel.fit_transform(x, y)\n",
        "        print(\"Shape of x after selection: \", x.shape)\n",
        "        cols_idxs = sel.get_support(indices=True)\n",
        "    elif opt == \"pca\":\n",
        "        print(\"\\nUsing PCA feature selection...\")\n",
        "        x_scaled = StandardScaler().fit_transform(x)\n",
        "        pca = PCA(n_components=n_features)\n",
        "        pca_features = pca.fit_transform(x_scaled)\n",
        "        print('Shape before PCA: ', x_scaled.shape)\n",
        "        print('Shape after PCA: ', pca_features.shape)\n",
        "        x = pca_features\n",
        "        cols_idxs = pca.get_support(indices=True)\n",
        "    else:\n",
        "        print(\"\")\n",
        "    return x, cols_idxs\n",
        "\n",
        "#select set option\n",
        "set = -1\n",
        "\n",
        "dataset = pd.read_csv(\"DATASET (06-16-2023) Downsized and Includes Omicron Subvariants.csv\")\n",
        "\n",
        "#print(dataset['Lineage'].value_counts())\n",
        "\n",
        "#remove \"EPI_ISL_\" from ID\n",
        "#new_ID_col = []\n",
        "#for i in range(0, len(dataset['Accession ID'])):\n",
        "#    new_ID_col.append(str(dataset['Accession ID'].loc[i].replace(\"EPI_ISL_\", \"\")))\n",
        "#dataset['Accession ID'] = new_ID_col\n",
        "\n",
        "feature_cols = [c for c in dataset.columns[2:]]\n",
        "#print(feature_cols)\n",
        "\n",
        "x = dataset.loc[:,feature_cols].values #must be floats\n",
        "y = dataset.loc[:,'Lineage'].values #must be integers\n",
        "\n",
        "#print(x)\n",
        "#print(y)\n",
        "\n",
        "# Preprocessing with labels for the lineage\n",
        "le = preprocessing.LabelEncoder()\n",
        "y = le.fit_transform(y)\n",
        "print(le.classes_)\n",
        "\n",
        "x = x.astype(float)\n",
        "\n",
        "print(\"Shape of x: \", x.shape)\n",
        "print(\"Shape of y:\", y.shape)\n",
        "\n",
        "print(f\"Running time is {time.time() - start_time} seconds\")"
      ]
    },
    {
      "cell_type": "code",
      "execution_count": 28,
      "metadata": {},
      "outputs": [
        {
          "name": "stdout",
          "output_type": "stream",
          "text": [
            "Lineage\n",
            "BA.1         572\n",
            "C.37         552\n",
            "B.1.617.2    521\n",
            "BA.2         515\n",
            "B.1.621      514\n",
            "B.1.1.529    497\n",
            "BA.1.1       435\n",
            "BA.1.17.2    401\n",
            "Name: count, dtype: int64\n",
            "Total: 4007\n"
          ]
        }
      ],
      "source": [
        "print(dataset['Lineage'].value_counts())\n",
        "print(f\"Total: {dataset['Lineage'].count()}\")"
      ]
    },
    {
      "cell_type": "code",
      "execution_count": 29,
      "metadata": {
        "colab": {
          "base_uri": "https://localhost:8080/"
        },
        "id": "7ZM8Rdc1GAiq",
        "outputId": "229d7be1-b1ad-4eb9-8d57-7e1ec6aebf07"
      },
      "outputs": [
        {
          "name": "stdout",
          "output_type": "stream",
          "text": [
            "\n",
            "Using K best features feature selection...\n",
            "Shape of x before selection:  (4007, 512)\n",
            "Shape of x after selection:  (4007, 15)\n",
            "\n",
            "Selected features: \n",
            "feature_24\n",
            "feature_32\n",
            "feature_65\n",
            "feature_73\n",
            "feature_76\n",
            "feature_87\n",
            "feature_126\n",
            "feature_140\n",
            "feature_180\n",
            "feature_195\n",
            "feature_209\n",
            "feature_324\n",
            "feature_327\n",
            "feature_407\n",
            "feature_413\n",
            "Running time is 0.024805068969726562 seconds\n"
          ]
        }
      ],
      "source": [
        "# Feature Selection Cell (ensemble attempted)\n",
        "\n",
        "start_time = time.time()\n",
        "#x = feature_selection(x, \"var\", var_percent = 0.80)\n",
        "x, cols_idxs = feature_selection(x, \"kbest\", n_features = 15)\n",
        "#x = feature_selection(x, \"pca\", n_features = 5)\n",
        "\n",
        "# print(dataset.iloc[:,cols_idxs])\n",
        "\n",
        "print(\"\\nSelected features: \")\n",
        "for col in cols_idxs:\n",
        "    print(feature_cols[col])\n",
        "\n",
        "print(f\"Running time is {time.time() - start_time} seconds\")"
      ]
    },
    {
      "cell_type": "code",
      "execution_count": 30,
      "metadata": {
        "colab": {
          "base_uri": "https://localhost:8080/"
        },
        "id": "to8ualx7GEFT",
        "outputId": "3b2c82f9-f1c6-4422-9b21-a0799b6e2749"
      },
      "outputs": [
        {
          "name": "stdout",
          "output_type": "stream",
          "text": [
            "Test set size: (1203, 15)\n",
            "Running time is 0.0008792877197265625 seconds\n"
          ]
        }
      ],
      "source": [
        "# Retrieve train and test sets\n",
        "\n",
        "def split(x,y):\n",
        "    X_train, X_test, y_train, y_test = train_test_split(\n",
        "    x, y, test_size=0.30)\n",
        "\n",
        "    return X_train, X_test, y_train, y_test\n",
        "\n",
        "start_time = time.time()\n",
        "X_train, X_test, y_train, y_test = split(x,y)\n",
        "\n",
        "print(f\"Test set size: {X_test.shape}\")\n",
        "\n",
        "print(f\"Running time is {time.time() - start_time} seconds\")\n",
        "#st_x = StandardScaler()\n",
        "#X_train = st_x.fit_transform(X_train)\n",
        "#X_test = st_x.transform(X_test)"
      ]
    },
    {
      "cell_type": "code",
      "execution_count": 31,
      "metadata": {
        "colab": {
          "base_uri": "https://localhost:8080/"
        },
        "id": "RIUoad8WGHaf",
        "outputId": "4a30afab-a734-4593-d78a-40df98193cbb"
      },
      "outputs": [
        {
          "name": "stdout",
          "output_type": "stream",
          "text": [
            "Getting performance metrics for scikit-learn model (Plaintext)...\n",
            "78.63674147963424\n",
            "75.81047381546135\n",
            "76.72485453034082\n",
            "76.64172901080632\n",
            "77.3067331670823\n",
            "79.30174563591022\n",
            "78.47049044056526\n",
            "76.14297589359933\n",
            "77.47298420615128\n",
            "78.63674147963424\n",
            "Getting performance metrics for Concrete-ML model (Quantized Plaintext)...\n",
            "74.3142144638404\n",
            "78.05486284289277\n",
            "77.47298420615128\n",
            "78.38736492103075\n",
            "77.47298420615128\n",
            "76.55860349127181\n",
            "77.38985868661679\n",
            "77.80548628428927\n",
            "76.72485453034082\n",
            "77.97173732335827\n",
            "Getting performance metrics for Concrete-ML model (FHE)...\n",
            "78.22111388196176%\n",
            "76.9742310889443%\n",
            "77.0573566084788%\n",
            "79.13549459684123%\n",
            "77.63923524522028%\n",
            "76.89110556940982%\n",
            "75.22859517871987%\n",
            "76.89110556940982%\n",
            "78.38736492103075%\n",
            "77.97173732335827%\n"
          ]
        }
      ],
      "source": [
        "results = []\n",
        "print(\"Getting performance metrics for scikit-learn model (Plaintext)...\")\n",
        "\n",
        "for i in range(0,10):\n",
        "    X_train, X_test, y_train, y_test = split(x,y)\n",
        "    start_time = time.time()\n",
        "    skmodel = skLR(C=1)\n",
        "    skmodel.fit(X_train,y_train)\n",
        "    y_pred_sklearn = skmodel.predict(X_test)\n",
        "    results.append(f\"{skmodel.score(X_test,y_test)*100}\")\n",
        "\n",
        "for r in results:\n",
        "    print(f\"{r}\")\n",
        "#print(\"Accuracy for sklearn: \", skmodel.score(X_test,y_test)*100,\"%\")\n",
        "#print(f\"Running time is {time.time() - start_time} seconds\")\n",
        "\n",
        "quantized_results = []\n",
        "print(\"Getting performance metrics for Concrete-ML model (Quantized Plaintext)...\")\n",
        "for i in range(0,10):\n",
        "    X_train, X_test, y_train, y_test = split(x,y)\n",
        "    model = LogisticRegression(C=1)\n",
        "    # Fit the model\n",
        "    model.fit(X_train, y_train)\n",
        "\n",
        "    start_time = time.time()\n",
        "    # Run the predictions on non-encrypted data as a reference\n",
        "    y_pred_clear = model.predict(X_test)\n",
        "\n",
        "    quantized_results.append(f\"{model.score(X_test,y_test) * 100}\")\n",
        "    # print(\"Accuracy rate for quantized plaintext:  \", model.score(X_test,y_test) * 100, \"%\")\n",
        "    # print(f\"Running time is {time.time() - start_time} seconds\")\n",
        "\n",
        "for r in quantized_results:\n",
        "    print(f\"{r}\")\n",
        "\n",
        "fhe_results = []\n",
        "print(\"Getting performance metrics for Concrete-ML model (FHE)...\")\n",
        "for i in range(0,10):\n",
        "    X_train, X_test, y_train, y_test = split(x,y)\n",
        "    model = LogisticRegression(C=1)\n",
        "    #Fit the model\n",
        "    model.fit(X_train, y_train)\n",
        "    #print(\"Compiling...\")\n",
        "    model.compile(x)\n",
        "    #print(\"model compiled!\")\n",
        "    y_pred_fhe = model.predict(X_test, fhe=\"execute\")\n",
        "    fhe_results.append(f\"{accuracy_score(y_test, y_pred_fhe) * 100}%\")\n",
        "\n",
        "for r in fhe_results:\n",
        "    print(f\"{r}\")"
      ]
    },
    {
      "cell_type": "code",
      "execution_count": 5,
      "metadata": {},
      "outputs": [
        {
          "name": "stdout",
          "output_type": "stream",
          "text": [
            "Getting training time and number of iterations for scikit-learn model (Plaintext)...\n",
            "0.06247591972351074\n",
            "0.049529314041137695\n",
            "0.049454450607299805\n",
            "0.05459284782409668\n",
            "0.04990673065185547\n",
            "0.04826641082763672\n",
            "0.046796321868896484\n",
            "0.046716928482055664\n",
            "0.048148393630981445\n",
            "0.05108904838562012\n",
            "Getting training time and number of iterations for Concrete-ML model (Quantized Plaintext and FHE)...\n",
            "0.10984063148498535\n",
            "0.08402156829833984\n",
            "0.08368849754333496\n",
            "0.0739293098449707\n",
            "0.07214856147766113\n",
            "0.09466099739074707\n",
            "0.09340977668762207\n",
            "0.07601070404052734\n",
            "0.07851171493530273\n",
            "0.08089447021484375\n"
          ]
        }
      ],
      "source": [
        "# Get running time for training of models\n",
        "print(\"Getting training time and number of iterations for scikit-learn model (Plaintext)...\")\n",
        "results = []\n",
        "\n",
        "for i in range(0,10):\n",
        "    start_time = time.time()\n",
        "    X_train, X_test, y_train, y_test = split(x,y)\n",
        "    skmodel = skLR(C=1)\n",
        "    skmodel.fit(X_train,y_train)\n",
        "    results.append(f\"{time.time() - start_time}\")\n",
        "\n",
        "for r in results:\n",
        "    print(f\"{r}\")\n",
        "\n",
        "print(\"Getting training time and number of iterations for Concrete-ML model (Quantized Plaintext and FHE)...\")\n",
        "quantized_results = []\n",
        "\n",
        "for i in range(0,10):\n",
        "    X_train, X_test, y_train, y_test = split(x,y)\n",
        "    model = LogisticRegression(C=1)\n",
        "    start_time = time.time()\n",
        "    model.fit(X_train, y_train)\n",
        "    quantized_results.append(f\"{time.time() - start_time}\")\n",
        "\n",
        "for r in quantized_results:\n",
        "    print(f\"{r}\")"
      ]
    },
    {
      "cell_type": "code",
      "execution_count": 6,
      "metadata": {},
      "outputs": [
        {
          "name": "stdout",
          "output_type": "stream",
          "text": [
            "Getting running time for scikit-learn model (Plaintext)...\n",
            "0.00017690658569335938\n",
            "0.00017595291137695312\n",
            "0.0002551078796386719\n",
            "0.00019693374633789062\n",
            "0.0002613067626953125\n",
            "0.00019407272338867188\n",
            "0.0002617835998535156\n",
            "0.00021791458129882812\n",
            "0.0002295970916748047\n",
            "0.00020360946655273438\n",
            "Getting running time for Concrete-ML model (Quantized Plaintext)...\n",
            "0.0003635883331298828\n",
            "0.0004222393035888672\n",
            "0.0005109310150146484\n",
            "0.0003960132598876953\n",
            "0.0003819465637207031\n",
            "0.0007658004760742188\n",
            "0.0006692409515380859\n",
            "0.0006051063537597656\n",
            "0.0006952285766601562\n",
            "0.0004951953887939453\n",
            "Getting running time for Concrete-ML model (FHE)...\n",
            "0.0018923282623291016\n",
            "0.0012898445129394531\n",
            "0.0010807514190673828\n",
            "0.00064849853515625\n",
            "0.0005714893341064453\n",
            "0.002024412155151367\n",
            "0.0005273818969726562\n",
            "0.0007891654968261719\n",
            "0.0006153583526611328\n",
            "0.0005872249603271484\n"
          ]
        }
      ],
      "source": [
        "print(\"Getting running time for scikit-learn model (Plaintext)...\")\n",
        "results = []\n",
        "\n",
        "for i in range(0,10):\n",
        "    X_train, X_test, y_train, y_test = split(x,y)\n",
        "    skmodel = skLR(C=1)\n",
        "    skmodel.fit(X_train,y_train)\n",
        "    start_time = time.time()\n",
        "    y_pred_sklearn = skmodel.predict(X_test)\n",
        "    results.append(f\"{time.time() - start_time}\")\n",
        "\n",
        "for r in results:\n",
        "    print(f\"{r}\")\n",
        "\n",
        "print(\"Getting running time for Concrete-ML model (Quantized Plaintext)...\")\n",
        "quantized_results = []\n",
        "\n",
        "for i in range(0,10):\n",
        "    X_train, X_test, y_train, y_test = split(x,y)\n",
        "    model = LogisticRegression(C=1)\n",
        "    model.fit(X_train, y_train)\n",
        "    start_time = time.time()\n",
        "    y_pred_clear = model.predict(X_test)\n",
        "    quantized_results.append(f\"{time.time() - start_time}\")\n",
        "\n",
        "for r in quantized_results:\n",
        "    print(f\"{r}\")\n",
        "\n",
        "print(\"Getting running time for Concrete-ML model (FHE)...\")\n",
        "fhe_results = []\n",
        "\n",
        "for i in range(0,10):\n",
        "    X_train, X_test, y_train, y_test = split(x,y)\n",
        "    model = LogisticRegression(C=1)\n",
        "    model.fit(X_train, y_train)\n",
        "    model.compile(x)\n",
        "    start_time = time.time()\n",
        "    y_pred_clear = model.predict(X_test)\n",
        "    fhe_results.append(f\"{time.time() - start_time}\")\n",
        "\n",
        "for r in fhe_results:\n",
        "    print(f\"{r}\")"
      ]
    },
    {
      "cell_type": "code",
      "execution_count": null,
      "metadata": {
        "colab": {
          "base_uri": "https://localhost:8080/"
        },
        "id": "xiuG5jkrGI4a",
        "outputId": "5fc4db53-2181-4b24-a675-ce4586ea2863"
      },
      "outputs": [],
      "source": [
        "# # Initialize model and fix the number of bits to used for quantization \n",
        "\n",
        "# model = LogisticRegression(C=1)\n",
        "\n",
        "# # Fit the model\n",
        "# model.fit(X_train, y_train)\n",
        "\n",
        "# start_time = time.time()\n",
        "# # Run the predictions on non-encrypted data as a reference\n",
        "# y_pred_clear = model.predict(X_test)\n",
        "\n",
        "# # Output (plaintext vs FHE):\n",
        "# # print(\"In clear:  \", le.inverse_transform(y_pred_clear))\n",
        "# # accuracy_score(y_test, y_pred_clear)\n",
        "# print(\"Accuracy rate for quantized plaintext:  \", model.score(X_test,y_test) * 100, \"%\")\n",
        "# print(f\"Running time is {time.time() - start_time} seconds\")\n",
        "\n",
        "# #low/higly volatile accuracy may be attributed to small dataset and too many features \n",
        "# #(feature selection needed and more samples are required)\n",
        "# print(\"PREDICTION:\\n\", y_pred_clear)\n",
        "# print(\"ACTUAL:\\n\", y_test) \n",
        "\n",
        "# # Compile into a FHE model\n",
        "# start_time = time.time()\n",
        "# print(\"Compiling...\")\n",
        "# model.compile(x)\n",
        "# print(\"model compiled!\")\n",
        "# print(f\"Running time is {time.time() - start_time} seconds\")\n",
        "\n",
        "# # Run the inference in FHE\n",
        "# start_time = time.time()\n",
        "# print(\"Predicting in FHE...\")\n",
        "# y_pred_fhe = model.predict(X_test, fhe=\"execute\")\n",
        "# print(\"Accuracy rate for FHE:  \", accuracy_score(y_test, y_pred_fhe) * 100, \"%\")\n",
        "\n",
        "# #print(\"In FHE    :\", y_pred_fhe)\n",
        "# print(f\"Comparison: {int((y_pred_fhe == y_pred_clear).sum()/len(y_pred_fhe)*100)}% similar\")\n",
        "# print(f\"Running time is {time.time() - start_time} seconds\")"
      ]
    },
    {
      "cell_type": "code",
      "execution_count": 32,
      "metadata": {
        "colab": {
          "base_uri": "https://localhost:8080/"
        },
        "id": "NAnw8wOaGKbT",
        "outputId": "7ec60758-6657-4088-aa98-26af90c2a1ea"
      },
      "outputs": [
        {
          "name": "stdout",
          "output_type": "stream",
          "text": [
            "Getting performance metrics for scikit-learn model (Plaintext)...\n",
            "0.9584467097844153\n",
            "0.9584562289624967\n",
            "0.9579356081651919\n",
            "0.9586165442842998\n",
            "0.9582596588471739\n",
            "0.9586204806871177\n",
            "0.9580359370972715\n",
            "0.9586978960078061\n",
            "0.9586544404402388\n",
            "0.9582008539396318\n",
            "Getting performance metrics for Concrete-ML model (Quantized Plaintext)...\n",
            "0.9580559394664758\n",
            "0.9581459284946473\n",
            "0.9581641104535963\n",
            "0.9585049418370075\n",
            "0.9584717172271452\n",
            "0.9582149606659711\n",
            "0.9575024585825389\n",
            "0.9578913145020553\n",
            "0.9582269362033454\n",
            "0.9577629482385581\n",
            "Getting performance metrics for Concrete-ML model (FHE)...\n",
            "0.9582912519028858\n",
            "0.9585008637544739\n",
            "0.9582235403976596\n",
            "0.9581294075791054\n",
            "0.9584056625094519\n",
            "0.9586651835892896\n",
            "0.9583876308903094\n",
            "0.9581697294205125\n",
            "0.9582395593519947\n",
            "0.9581471002342015\n"
          ]
        }
      ],
      "source": [
        "#Get AUC for multiclass\n",
        "#NOTE WE HAVE A MULTICLASS BUT NOT MULTILABEL PROBLEM. only one label selected from multiple classes is assigned\n",
        "start_time = time.time()\n",
        "results = []\n",
        "quantized_results = []\n",
        "fhe_results = []\n",
        "\n",
        "print(\"Getting performance metrics for scikit-learn model (Plaintext)...\")\n",
        "for i in range(0,10):\n",
        "    X_train, X_test, y_train, y_test = split(x,y)\n",
        "    #start_time = time.time()\n",
        "    skmodel = skLR(C=1)\n",
        "    skmodel.fit(X_train,y_train)\n",
        "    results.append(roc_auc_score(y, skmodel.predict_proba(x), multi_class='ovr'))\n",
        "\n",
        "for r in results:\n",
        "    print(f\"{r}\")\n",
        "\n",
        "print(\"Getting performance metrics for Concrete-ML model (Quantized Plaintext)...\")\n",
        "for i in range(0,10):\n",
        "    X_train, X_test, y_train, y_test = split(x,y)\n",
        "    model = LogisticRegression(C=1)\n",
        "    # Fit the model\n",
        "    model.fit(X_train, y_train)\n",
        "    quantized_results.append(roc_auc_score(y, model.predict_proba(x), multi_class='ovr'))\n",
        "\n",
        "for r in quantized_results:\n",
        "    print(f\"{r}\")\n",
        "\n",
        "print(\"Getting performance metrics for Concrete-ML model (FHE)...\")\n",
        "for i in range(0,10):\n",
        "    X_train, X_test, y_train, y_test = split(x,y)\n",
        "    model = LogisticRegression(C=1)\n",
        "    # Fit the model\n",
        "    model.fit(X_train, y_train)\n",
        "    #print(\"Compiling...\")\n",
        "    model.compile(x)\n",
        "    fhe_results.append(roc_auc_score(y, model.predict_proba(x), multi_class='ovr'))\n",
        "\n",
        "for r in fhe_results:\n",
        "    print(f\"{r}\")\n",
        "\n",
        "#print(\"Scikit learn ROC AUC Score (One vs Rest): \", roc_auc_score(y, skmodel.predict_proba(x), multi_class='ovr'))\n",
        "#print(\"Scikit learn AUROC (One vs One): \", roc_auc_score(y, skmodel.predict_proba(x), multi_class='ovo'))\n",
        "#print(\"Macro-averaged Concrete-ML ROC AUC Score (One vs Rest): \", roc_auc_score(y, model.predict_proba(x), multi_class='ovr'))\n",
        "#print(\"Concrete-ML AUROC (One vs One): \", roc_auc_score(y, model.predict_proba(x), multi_class='ovo'))\n",
        "#print(f\"Running time is {time.time() - start_time} seconds\")"
      ]
    },
    {
      "cell_type": "code",
      "execution_count": 34,
      "metadata": {
        "colab": {
          "base_uri": "https://localhost:8080/"
        },
        "id": "cwU0x9zZIF9E",
        "outputId": "4d155d33-5969-4250-d551-d27adff6f678"
      },
      "outputs": [
        {
          "name": "stdout",
          "output_type": "stream",
          "text": [
            "***Note: The diagonal elements are the correctly predicted samples. ***\n",
            "Confusion matrix for SKLearn Plaintext: \n"
          ]
        },
        {
          "data": {
            "image/png": "[encoded data removed]",
            "text/plain": [
              "<Figure size 640x480 with 2 Axes>"
            ]
          },
          "metadata": {},
          "output_type": "display_data"
        },
        {
          "name": "stdout",
          "output_type": "stream",
          "text": [
            "Confusion matrix for Quantized Plaintext: \n"
          ]
        },
        {
          "data": {
            "image/png": "[encoded data removed]",
            "text/plain": [
              "<Figure size 640x480 with 2 Axes>"
            ]
          },
          "metadata": {},
          "output_type": "display_data"
        },
        {
          "name": "stdout",
          "output_type": "stream",
          "text": [
            "Confusion matrix for FHE: \n"
          ]
        },
        {
          "data": {
            "image/png": "[encoded data removed]",
            "text/plain": [
              "<Figure size 640x480 with 2 Axes>"
            ]
          },
          "metadata": {},
          "output_type": "display_data"
        },
        {
          "name": "stdout",
          "output_type": "stream",
          "text": [
            "Running time is 2.067664861679077 seconds\n",
            "Comparison (FHE vs Plaintext): 99% similar\n",
            "Comparison (FHE vs Quantized Plaintext): 100% similar\n"
          ]
        }
      ],
      "source": [
        "# In[10]:\n",
        "start_time = time.time()\n",
        "\n",
        "from sklearn.metrics import confusion_matrix, ConfusionMatrixDisplay\n",
        "\n",
        "print(\"***Note: The diagonal elements are the correctly predicted samples. ***\")\n",
        "\n",
        "#use the scikit-learn classes because we use the same class naman\n",
        "X_train, X_test, y_train, y_test = split(x,y)\n",
        "\n",
        "print(\"Confusion matrix for SKLearn Plaintext: \")\n",
        "#print(confusion_matrix(y_test, y_pred_sklearn), \"\\n\")\n",
        "skmodel = skLR(C=1)\n",
        "skmodel.fit(X_train,y_train)\n",
        "y_pred_sklearn = skmodel.predict(X_test)\n",
        "sklearn_cm_display = ConfusionMatrixDisplay(confusion_matrix(y_test, y_pred_sklearn), display_labels=le.classes_)\n",
        "sklearn_cm_display.plot()\n",
        "plt.show()\n",
        "\n",
        "print(\"Confusion matrix for Quantized Plaintext: \")\n",
        "#print(confusion_matrix(y_test, y_pred_clear), \"\\n\")\n",
        "model = LogisticRegression(C=1)\n",
        "model.fit(X_train,y_train)\n",
        "y_pred_clear = model.predict(X_test)\n",
        "concrete_plain_display = ConfusionMatrixDisplay(confusion_matrix(y_test, y_pred_clear), display_labels=le.classes_)\n",
        "concrete_plain_display.plot()\n",
        "plt.show()\n",
        "\n",
        "print(\"Confusion matrix for FHE: \")\n",
        "#print(confusion_matrix(y_test, y_pred_fhe))\n",
        "model.compile(x)\n",
        "y_pred_fhe = model.predict(X_test)\n",
        "concrete_fhe_display = ConfusionMatrixDisplay(confusion_matrix(y_test, y_pred_fhe), display_labels=le.classes_)\n",
        "concrete_fhe_display.plot()\n",
        "plt.show()\n",
        "\n",
        "print(f\"Running time is {time.time() - start_time} seconds\")\n",
        "\n",
        "print(f\"Comparison (FHE vs Plaintext): {int((y_pred_fhe == y_pred_sklearn).sum()/len(y_pred_fhe)*100)}% similar\")\n",
        "print(f\"Comparison (FHE vs Quantized Plaintext): {int((y_pred_fhe == y_pred_clear).sum()/len(y_pred_fhe)*100)}% similar\")"
      ]
    },
    {
      "cell_type": "code",
      "execution_count": 35,
      "metadata": {
        "colab": {
          "base_uri": "https://localhost:8080/"
        },
        "id": "FhNGYU2NGL6r",
        "outputId": "ea2a01fa-4d3c-433f-955a-d7d66e520ac4"
      },
      "outputs": [
        {
          "name": "stdout",
          "output_type": "stream",
          "text": [
            "Sklearn Accuracy (Linear Reg, RF, SVC):\n",
            "70.48026180738457 78.80299251870323 76.80798004987531\n",
            "71.88732434618291 79.05236907730672 71.73732335827098\n",
            "65.59692454464839 77.97173732335827 75.06234413965088\n",
            "71.23947746943406 77.38985868661679 76.9742310889443\n",
            "68.5731300334552 76.72485453034082 74.72984206151288\n",
            "71.40035314126476 79.80049875311721 75.64422277639235\n",
            "69.67463859890526 77.72236076475478 72.31920199501248\n",
            "69.98555631913497 79.46799667497922 77.0573566084788\n",
            "66.86479729624463 77.88861180382376 72.23607647547797\n",
            "68.58969599284646 78.55361596009975 72.31920199501248\n",
            "Concrete-ML Accuracy (Linear Reg, RF, SVC):\n",
            "68.11913010799253   74.56359102244389   74.72984206151288\n",
            "70.95492676907377   76.22610141313383   77.47298420615128\n",
            "70.59439828413606   74.81296758104739   76.64172901080632\n",
            "70.25633659952233   75.64422277639235   74.97921862011637\n",
            "68.92246598703441   74.3142144638404   72.90108063175394\n",
            "69.42894986618154   76.05985037406484   78.38736492103075\n",
            "65.01484458817168   73.48295926849543   75.22859517871987\n",
            "69.15336721416642   74.56359102244389   71.82044887780549\n",
            "67.93973844043255   76.05985037406484   72.31920199501248\n",
            "70.34597751080771   76.05985037406484   74.2310889443059\n"
          ]
        }
      ],
      "source": [
        "from concrete.ml.sklearn.svm import LinearSVC\n",
        "from sklearn.svm import LinearSVC as skSVC\n",
        "from concrete.ml.sklearn.rf import RandomForestClassifier\n",
        "from sklearn.ensemble import RandomForestClassifier as skRF\n",
        "\n",
        "print(f\"Sklearn Accuracy (Linear Reg, RF, SVC):\")\n",
        "\n",
        "for i in range(0,10):\n",
        "    X_train, X_test, y_train, y_test = split(x,y)\n",
        "\n",
        "    #SKLEARN LINEAR REGRESSION\n",
        "    skmodel2 = skLinear()\n",
        "    skmodel2.fit(X_train,y_train)\n",
        "    skmodel2.predict(X_test)\n",
        "    #print(\"Sklearn Linear Regression Accuracy: \", skmodel2.score(X_test,y_test)*100,\"%\")\n",
        "\n",
        "    #SKLEARN RANDOM FOREST\n",
        "    skmodel3 = skRF()\n",
        "    skmodel3.fit(X_train, y_train)\n",
        "    skmodel3.predict(X_test)\n",
        "    #print(\"Sklearn Random Forest Accuracy: \",skmodel3.score(X_test,y_test)*100,\"%\")\n",
        "\n",
        "    #SKLEARN SVC\n",
        "    skmodel4 = skSVC()\n",
        "    skmodel4.fit(X_train, y_train)\n",
        "    skmodel4.predict(X_test)\n",
        "    #print(\"Sklearn SVC Accuracy: \",skmodel4.score(X_test,y_test)*100,\"%\")\n",
        "\n",
        "    print(f\"{skmodel2.score(X_test,y_test)*100} {skmodel3.score(X_test,y_test)*100} {skmodel4.score(X_test,y_test)*100}\")\n",
        "\n",
        "print(f\"Concrete-ML Accuracy (Linear Reg, RF, SVC):\")\n",
        "\n",
        "for i in range(0,10):\n",
        "    X_train, X_test, y_train, y_test = split(x,y)\n",
        "    model2 = LinearRegression()\n",
        "    model2.fit(X_train,y_train)\n",
        "    model2.predict(X_test)\n",
        "    print(\"Concrete-ML Linear Regression Accuracy: \", model2.score(X_test,y_test)*100,\"%\")\n",
        "\n",
        "    model3 = RandomForestClassifier()\n",
        "    model3.fit(X_train, y_train)\n",
        "    model3.predict(X_test)\n",
        "    print(\"Concrete-ML Random Forest Accuracy: \",model3.score(X_test,y_test)*100,\"%\")\n",
        "\n",
        "    model4 = LinearSVC()\n",
        "    model4.fit(X_train, y_train)\n",
        "    model4.predict(X_test)\n",
        "    print(\"Concrete-ML SVC Accuracy: \",model4.score(X_test,y_test)*100,\"%\")\n",
        "\n",
        "    print(f\"{model2.score(X_test,y_test)*100}   {model3.score(X_test,y_test)*100}   {model4.score(X_test,y_test)*100}\")"
      ]
    },
    {
      "cell_type": "code",
      "execution_count": null,
      "metadata": {
        "colab": {
          "base_uri": "https://localhost:8080/"
        },
        "id": "HYE6bmsjGj4C",
        "outputId": "ab4bb57a-e5aa-4022-9870-8bc63d5bc978"
      },
      "outputs": [],
      "source": [
        "# In[10]:\n",
        "\n",
        "\n",
        "#Attempting to save the model\n",
        "from concrete.ml.deployment import FHEModelClient, FHEModelDev, FHEModelServer\n",
        "\n",
        "start_time = time.time()\n",
        "\n",
        "fhemodel_dev = FHEModelDev(\"./concrete-covid-classifier\", model)\n",
        "fhemodel_dev.save()\n",
        "\n",
        "print(f\"Running time for saving the FHE model is {time.time() - start_time} seconds\")"
      ]
    },
    {
      "cell_type": "code",
      "execution_count": null,
      "metadata": {
        "colab": {
          "base_uri": "https://localhost:8080/"
        },
        "id": "_kAxGRM1Glz1",
        "outputId": "6576cdbd-2aeb-454b-9d8f-a59cf9b5e09b"
      },
      "outputs": [],
      "source": [
        "#Saving Scikit-learn model\n",
        "from joblib import dump, load\n",
        "\n",
        "dump(skmodel, './scikit-learn-classifier/scikitlearnmodel.joblib')\n",
        "#loaded_model = load('scikitlearnmodel.joblib')"
      ]
    }
  ],
  "metadata": {
    "colab": {
      "provenance": []
    },
    "kernelspec": {
      "display_name": "Python 3",
      "name": "python3"
    },
    "language_info": {
      "codemirror_mode": {
        "name": "ipython",
        "version": 3
      },
      "file_extension": ".py",
      "mimetype": "text/x-python",
      "name": "python",
      "nbconvert_exporter": "python",
      "pygments_lexer": "ipython3",
      "version": "3.10.6"
    }
  },
  "nbformat": 4,
  "nbformat_minor": 0
}
