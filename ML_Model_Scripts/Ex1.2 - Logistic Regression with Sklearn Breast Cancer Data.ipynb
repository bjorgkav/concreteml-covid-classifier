{
 "cells": [
  {
   "cell_type": "code",
   "execution_count": 1,
   "id": "02720835-08a9-47ce-83b9-798e6b6e200f",
   "metadata": {},
   "outputs": [],
   "source": [
    "import numpy as np\n",
    "import pandas as pd\n",
    "from sklearn import datasets\n",
    "from sklearn.linear_model import LogisticRegression as SklearnLogisticRegression\n",
    "from sklearn.model_selection import train_test_split\n",
    "from concrete.ml.sklearn import LogisticRegression as ConcreteLogisticRegression\n",
    "from sklearn.preprocessing import StandardScaler\n",
    "from sklearn.preprocessing import RobustScaler\n",
    "\n",
    "%matplotlib inline\n",
    "import matplotlib.pyplot as plt\n",
    "from IPython.display import display"
   ]
  },
  {
   "cell_type": "code",
   "execution_count": 2,
   "id": "afac5fe6-dc06-405f-bcbb-b8b9d0992e98",
   "metadata": {},
   "outputs": [],
   "source": [
    "selected_features_10 = [\n",
    "    \"mean compactness\",\n",
    "    \"mean concave points\",\n",
    "    \"radius error\",\n",
    "    \"area error\",\n",
    "    \"worst texture\",\n",
    "    \"worst perimeter\",\n",
    "    \"worst area\",\n",
    "    \"worst smoothness\",\n",
    "    \"worst concave points\",\n",
    "    \"worst symmetry\"\n",
    "]"
   ]
  },
  {
   "cell_type": "code",
   "execution_count": 4,
   "id": "b8ed8fea-536a-4cc6-8f98-11a8e4db2e02",
   "metadata": {},
   "outputs": [],
   "source": [
    "data = datasets.load_breast_cancer()\n",
    "bc = pd.DataFrame(data.data, columns = data.feature_names)\n",
    "bc['class'] = data.target\n",
    "\n",
    "bc_reduced = bc[selected_features_10]\n",
    "X, y = bc_reduced.to_numpy(), data.target\n",
    "\n",
    "X_train, X_test, y_train, y_test = train_test_split(X, y, test_size=0.2, random_state=1234)\n",
    "\n",
    "# sc = StandardScaler()\n",
    "rc = RobustScaler()\n",
    "\n",
    "X_train = rc.fit_transform(X_train)\n",
    "X_test = rc.transform(X_test)"
   ]
  },
  {
   "cell_type": "code",
   "execution_count": 15,
   "id": "e4a1a1d6-a1c8-46ab-9f8b-96bd21644db2",
   "metadata": {},
   "outputs": [
    {
     "name": "stdout",
     "output_type": "stream",
     "text": [
      "Sklearn model accuracy  : 94.7368%\n",
      "Quantized model accuracy: 93.8596%\n",
      "Homomorphic accuracy    : 93.8596%\n"
     ]
    }
   ],
   "source": [
    "logreg = SklearnLogisticRegression()\n",
    "logreg.fit(X_train, y_train)\n",
    "y_pred_test = np.asarray(logreg.predict(X_test))\n",
    "sklearn_acc = np.sum(y_pred_test == y_test) / len(y_test) * 100\n",
    "\n",
    "#q_logreg = ConcreteLogisticRegression(n_bits={\"op_inputs\": 5, \"op_weights\": 2})\n",
    "q_logreg = ConcreteLogisticRegression(n_bits=5)\n",
    "q_logreg.fit(X_train, y_train)\n",
    "#q_logreg.compile(X_train)\n",
    "q_y_pred_test = q_logreg.predict(X_test)\n",
    "quantized_accuracy = (q_y_pred_test == y_test).mean() * 100\n",
    "\n",
    "q_logreg.compile(X_train)\n",
    "#q_y_pred_fhe = q_logreg.predict(X_test, execute_in_fhe=True)\n",
    "q_y_pred_fhe = q_logreg.predict(X_test, fhe=\"execute\")\n",
    "homomorphic_accuracy = (q_y_pred_fhe == y_test).mean() * 100\n",
    "\n",
    "print(f\"Sklearn model accuracy  : {sklearn_acc:.4f}%\")\n",
    "print(f\"Quantized model accuracy: {quantized_accuracy:.4f}%\")\n",
    "print(f\"Homomorphic accuracy    : {homomorphic_accuracy:.4f}%\")"
   ]
  },
  {
   "cell_type": "code",
   "execution_count": null,
   "id": "c226187c-b8f8-4e70-acb7-4be29bcd6003",
   "metadata": {},
   "outputs": [],
   "source": []
  }
 ],
 "metadata": {
  "kernelspec": {
   "display_name": "Python 3 (ipykernel)",
   "language": "python",
   "name": "python3"
  },
  "language_info": {
   "codemirror_mode": {
    "name": "ipython",
    "version": 3
   },
   "file_extension": ".py",
   "mimetype": "text/x-python",
   "name": "python",
   "nbconvert_exporter": "python",
   "pygments_lexer": "ipython3",
   "version": "3.10.6"
  }
 },
 "nbformat": 4,
 "nbformat_minor": 5
}
